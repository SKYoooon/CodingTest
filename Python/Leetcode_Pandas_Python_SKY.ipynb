{
 "cells": [
  {
   "cell_type": "markdown",
   "metadata": {},
   "source": [
    "# Pandas"
   ]
  },
  {
   "cell_type": "markdown",
   "metadata": {},
   "source": [
    "#### 1683. Invalid Tweets"
   ]
  },
  {
   "cell_type": "code",
   "execution_count": null,
   "metadata": {},
   "outputs": [],
   "source": [
    "# import pandas as pd\n",
    "\n",
    "# def invalid_tweets(tweets: pd.DataFrame) -> pd.DataFrame:\n",
    "#     invalid_tweets_df = tweets[tweets['content'].str.len() > 15]\n",
    "#     over_15 = invalid_tweets_df[['tweet_id']]\n",
    "#     return over_15"
   ]
  },
  {
   "cell_type": "markdown",
   "metadata": {},
   "source": [
    "#### 1667. Fix Names in a Table"
   ]
  },
  {
   "cell_type": "code",
   "execution_count": null,
   "metadata": {},
   "outputs": [],
   "source": [
    "# import pandas as pd\n",
    "\n",
    "# def fix_names(users: pd.DataFrame) -> pd.DataFrame:\n",
    "#     users['name'] = users['name'].str[:1].str.upper() + users['name'].str[1:].str.lower()\n",
    "#     return users.sort_values('user_id')"
   ]
  },
  {
   "cell_type": "markdown",
   "metadata": {},
   "source": [
    "#### 1873. Calculate Special Bonus"
   ]
  },
  {
   "cell_type": "code",
   "execution_count": null,
   "metadata": {},
   "outputs": [],
   "source": []
  },
  {
   "cell_type": "markdown",
   "metadata": {},
   "source": [
    "# Python"
   ]
  },
  {
   "cell_type": "markdown",
   "metadata": {},
   "source": [
    "#### 1071. Greatest Common Divisor of Strings"
   ]
  },
  {
   "cell_type": "code",
   "execution_count": null,
   "metadata": {},
   "outputs": [],
   "source": [
    "# class Solution:\n",
    "#     def gcdOfStrings(self, str1: str, str2: str) -> str:\n",
    "#         if str1 + str2 != str2 + str1:\n",
    "#             return \"\"\n",
    "\n",
    "#         max_len = gcd(len(str1),len(str2))\n",
    "#         return str1[:max_len]"
   ]
  },
  {
   "cell_type": "markdown",
   "metadata": {},
   "source": [
    "#### 1431. Kids With the Greatest Number of Candies"
   ]
  },
  {
   "cell_type": "code",
   "execution_count": null,
   "metadata": {},
   "outputs": [],
   "source": [
    "# class Solution:\n",
    "#     def kidsWithCandies(self, candies: List[int], extraCandies: int) -> List[bool]:\n",
    "#         maxCandies = max(candies)\n",
    "#         result = []\n",
    "\n",
    "#         for i in range(len(candies)):\n",
    "#             result.append(candies[i] + extraCandies >= maxCandies)\n",
    "#         return result\n",
    "        "
   ]
  },
  {
   "cell_type": "markdown",
   "metadata": {},
   "source": [
    "#### 605. Can Place Flowers"
   ]
  },
  {
   "cell_type": "code",
   "execution_count": null,
   "metadata": {},
   "outputs": [],
   "source": [
    "# class Solution:\n",
    "#     def canPlaceFlowers(self, flowerbed: List[int], n: int) -> bool:\n",
    "#         count=0\n",
    "#         for i in range(len(flowerbed)):\n",
    "#             if flowerbed[i] == 0 :\n",
    "#                 left_empty = (i==0) or (flowerbed[i-1] == 0)\n",
    "#                 right_empty = (i == len(flowerbed)-1) or (flowerbed[i+1]==0)\n",
    "#                 if left_empty and right_empty:\n",
    "#                     flowerbed[i] = 1\n",
    "#                     count += 1\n",
    "#                     if count >= n :\n",
    "#                         return True\n",
    "#         return count >= n"
   ]
  }
 ],
 "metadata": {
  "kernelspec": {
   "display_name": "base",
   "language": "python",
   "name": "python3"
  },
  "language_info": {
   "name": "python",
   "version": "3.11.5"
  }
 },
 "nbformat": 4,
 "nbformat_minor": 2
}
