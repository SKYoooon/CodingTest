{
 "cells": [
  {
   "cell_type": "markdown",
   "metadata": {},
   "source": [
    "# 단계별로 풀어보기"
   ]
  },
  {
   "cell_type": "markdown",
   "metadata": {},
   "source": [
    "## 입출력과 사칙연산"
   ]
  },
  {
   "cell_type": "markdown",
   "metadata": {},
   "source": [
    "#### 10869사칙연산"
   ]
  },
  {
   "cell_type": "code",
   "execution_count": 79,
   "metadata": {},
   "outputs": [],
   "source": [
    "# a, b = map(int,input().split())\n",
    "\n",
    "# print(a+b)\n",
    "# print(a-b)\n",
    "# print(a*b)\n",
    "# print(int(a/b))\n",
    "# print(a%b)"
   ]
  },
  {
   "cell_type": "markdown",
   "metadata": {},
   "source": [
    "#### 10926\t??!"
   ]
  },
  {
   "cell_type": "code",
   "execution_count": 80,
   "metadata": {},
   "outputs": [],
   "source": [
    "# id = input()\n",
    "# print(id+'??!')"
   ]
  },
  {
   "cell_type": "markdown",
   "metadata": {},
   "source": [
    "####  18108\t1998년생인 내가 태국에서는 2541년생?!"
   ]
  },
  {
   "cell_type": "code",
   "execution_count": 81,
   "metadata": {},
   "outputs": [],
   "source": [
    "# year = int(input())\n",
    "# print(year-543)"
   ]
  },
  {
   "cell_type": "markdown",
   "metadata": {},
   "source": [
    "#### 10430\t나머지"
   ]
  },
  {
   "cell_type": "code",
   "execution_count": 82,
   "metadata": {},
   "outputs": [],
   "source": [
    "# A,B,C = map(int,input().split())\n",
    "\n",
    "# print((A+B)%C)\n",
    "# print(((A%C) + (B%C))%C)\n",
    "# print((A*B)%C)\n",
    "# print(((A%C) * (B%C))%C)"
   ]
  },
  {
   "cell_type": "markdown",
   "metadata": {},
   "source": [
    "#### 2588\t곱셈"
   ]
  },
  {
   "cell_type": "code",
   "execution_count": 83,
   "metadata": {},
   "outputs": [],
   "source": [
    "# A = int(input())\n",
    "# B = input()\n",
    "\n",
    "# print(A*int(B[2]), A*int(B[1]),A*int(B[0]),A*int(B))"
   ]
  },
  {
   "cell_type": "markdown",
   "metadata": {},
   "source": [
    "#### 11382\t꼬마 정민"
   ]
  },
  {
   "cell_type": "code",
   "execution_count": 84,
   "metadata": {},
   "outputs": [],
   "source": [
    "# A, B, C = map(int,input().split())\n",
    "# print(A+B+C)"
   ]
  },
  {
   "cell_type": "markdown",
   "metadata": {},
   "source": [
    "#### 10171\t고양이"
   ]
  },
  {
   "cell_type": "code",
   "execution_count": 85,
   "metadata": {},
   "outputs": [],
   "source": [
    "# print(\"\\\\    /\\\\\")\n",
    "# print(\" )  ( ')\")\n",
    "# print(\"(  /  )\")\n",
    "# print(\" \\\\(__)|\")"
   ]
  },
  {
   "cell_type": "markdown",
   "metadata": {},
   "source": [
    "#### 10172\t개"
   ]
  },
  {
   "cell_type": "code",
   "execution_count": 86,
   "metadata": {},
   "outputs": [],
   "source": [
    "# print(\"|\\\\_/|\")\n",
    "# print(\"|q p|   /}\")\n",
    "# print(\"( 0 )\\\"\\\"\\\"\\\\\")\n",
    "# print(\"|\\\"^\\\"`    |\")\n",
    "# print(\"||_/=\\\\\\\\__|\")"
   ]
  },
  {
   "cell_type": "markdown",
   "metadata": {},
   "source": [
    "## 조건문"
   ]
  },
  {
   "cell_type": "markdown",
   "metadata": {},
   "source": [
    "#### 1330\t두 수 비교하기"
   ]
  },
  {
   "cell_type": "code",
   "execution_count": 87,
   "metadata": {},
   "outputs": [],
   "source": [
    "# A,B = map(int,input().split())\n",
    "# if A<B:\n",
    "#     print('<')\n",
    "# elif A==B:\n",
    "#     print('==')\n",
    "# else:\n",
    "#     print('>')"
   ]
  },
  {
   "cell_type": "markdown",
   "metadata": {},
   "source": [
    "#### 9498\t시험 성적"
   ]
  },
  {
   "cell_type": "code",
   "execution_count": 88,
   "metadata": {},
   "outputs": [],
   "source": [
    "# score = int(input())\n",
    "# if 90<=score<=100:\n",
    "#     print('A')\n",
    "# elif 80<=score<=89:\n",
    "#     print('B')\n",
    "# elif 70<=score<=79:\n",
    "#     print('C')\n",
    "# elif 60<=score<=69:\n",
    "#     print('D')\n",
    "# else:\n",
    "#     print('F')"
   ]
  },
  {
   "cell_type": "markdown",
   "metadata": {},
   "source": [
    "#### 2753\t윤년"
   ]
  },
  {
   "cell_type": "code",
   "execution_count": 89,
   "metadata": {},
   "outputs": [],
   "source": [
    "# year = int(input())\n",
    "# if (year %4 ==0) and ((year%100 != 0) or (year%400 ==0)):\n",
    "#     print(1)\n",
    "# else:\n",
    "#     print(0)"
   ]
  },
  {
   "cell_type": "markdown",
   "metadata": {},
   "source": [
    "#### 14681\t사분면 고르기"
   ]
  },
  {
   "cell_type": "code",
   "execution_count": 90,
   "metadata": {},
   "outputs": [],
   "source": [
    "# A = int(input())\n",
    "# B = int(input())\n",
    "# if A>0 and B>0:\n",
    "#     print(1)\n",
    "# elif A<0 and B>0:\n",
    "#     print(2)\n",
    "# elif A<0 and B<0:\n",
    "#     print(3)\n",
    "# else:\n",
    "#     print(4)"
   ]
  },
  {
   "cell_type": "markdown",
   "metadata": {},
   "source": [
    "#### 2884\t알람 시계"
   ]
  },
  {
   "cell_type": "code",
   "execution_count": 91,
   "metadata": {},
   "outputs": [],
   "source": [
    "# H, M = map(int,input().split())\n",
    "# new_H , new_M = H,M\n",
    "# if M <45:\n",
    "#     new_M = 60+ M -45\n",
    "#     new_H = H-1\n",
    "#     if H <= 0:\n",
    "#         new_H = 23\n",
    "# else :\n",
    "#     new_M = M -45\n",
    "\n",
    "# print(new_H,new_M)"
   ]
  },
  {
   "cell_type": "markdown",
   "metadata": {},
   "source": [
    "#### 2525\t오븐 시계"
   ]
  },
  {
   "cell_type": "code",
   "execution_count": 92,
   "metadata": {},
   "outputs": [],
   "source": [
    "# A, B = map(int,input().split())\n",
    "# C = int(input())\n",
    "\n",
    "# new_A , new_B = A,B\n",
    "# if  B+C>=60:\n",
    "#     new_B = (B+C)%60\n",
    "#     new_A = A + ((B+C)//60)\n",
    "#     if new_A >= 24:\n",
    "#         new_A = new_A -24\n",
    "# else:\n",
    "#     new_B = B+C\n",
    "\n",
    "# print(new_A,new_B)"
   ]
  },
  {
   "cell_type": "markdown",
   "metadata": {},
   "source": [
    "#### 2480\t주사위 세개"
   ]
  },
  {
   "cell_type": "code",
   "execution_count": 93,
   "metadata": {},
   "outputs": [],
   "source": [
    "# a,b,c = map(int,input().split())\n",
    "# reward=0\n",
    "# if a==b and b==c:\n",
    "#     reward = 10000+a*1000\n",
    "# elif a==b or a==c or b==c:\n",
    "#     reward = 1000+(a if a == b or a == c else b)*100\n",
    "# else:\n",
    "#     reward = 100*max(a,b,c)\n",
    "\n",
    "# print(reward)"
   ]
  },
  {
   "cell_type": "markdown",
   "metadata": {},
   "source": [
    "## 반복문"
   ]
  },
  {
   "cell_type": "markdown",
   "metadata": {},
   "source": [
    "#### 2739\t구구단"
   ]
  },
  {
   "cell_type": "code",
   "execution_count": 94,
   "metadata": {},
   "outputs": [],
   "source": [
    "# n = int(input())\n",
    "# for i in range(1,10):\n",
    "#     print(f'{n} * {i} = {n*i}')"
   ]
  },
  {
   "cell_type": "markdown",
   "metadata": {},
   "source": [
    "#### 10950A+B - 3"
   ]
  },
  {
   "cell_type": "code",
   "execution_count": 95,
   "metadata": {},
   "outputs": [],
   "source": [
    "# T = int(input())\n",
    "# for T in range(1,T+1):\n",
    "#     A, B = map(int,input().split())\n",
    "#     print(A+B)"
   ]
  },
  {
   "cell_type": "markdown",
   "metadata": {},
   "source": [
    "#### 8393\t합"
   ]
  },
  {
   "cell_type": "code",
   "execution_count": 96,
   "metadata": {},
   "outputs": [],
   "source": [
    "# n = int(input())\n",
    "# x=0\n",
    "# for i in range(1,n+1):\n",
    "#     x+= i\n",
    "# print(x)"
   ]
  },
  {
   "cell_type": "markdown",
   "metadata": {},
   "source": [
    "#### 25304\t영수증"
   ]
  },
  {
   "cell_type": "code",
   "execution_count": 97,
   "metadata": {},
   "outputs": [],
   "source": [
    "# total_price = int(input())\n",
    "# number_of_product = int(input())\n",
    "# check = 0\n",
    "# for i in range(1,number_of_product+1):\n",
    "#     price, num = map(int, input().split())\n",
    "#     check = check + price*num\n",
    "\n",
    "# if total_price ==check:\n",
    "#     print('Yes')\n",
    "# else:\n",
    "#     print('No')"
   ]
  },
  {
   "cell_type": "markdown",
   "metadata": {},
   "source": [
    "#### 25314\t코딩은 체육과목 입니다"
   ]
  },
  {
   "cell_type": "code",
   "execution_count": 98,
   "metadata": {},
   "outputs": [],
   "source": [
    "# length = int(input())\n",
    "# numb_of_long = length//4\n",
    "\n",
    "# for _ in range(numb_of_long):\n",
    "#     print('long', end=' ')\n",
    "\n",
    "# print('int')"
   ]
  },
  {
   "cell_type": "markdown",
   "metadata": {},
   "source": [
    "#### 11021\tA+B - 7"
   ]
  },
  {
   "cell_type": "code",
   "execution_count": 99,
   "metadata": {},
   "outputs": [],
   "source": [
    "# T = int(input())\n",
    "# for i in range(1,T+1):\n",
    "#     A, B = map(int,input().split())\n",
    "#     print(f'Case #{i}: {A+B}')"
   ]
  },
  {
   "cell_type": "markdown",
   "metadata": {},
   "source": [
    "#### \t11022\tA+B - 8"
   ]
  },
  {
   "cell_type": "code",
   "execution_count": 100,
   "metadata": {},
   "outputs": [],
   "source": [
    "# T = int(input())\n",
    "# for i in range(1,T+1):\n",
    "#     A, B = map(int,input().split())\n",
    "#     print(f'Case #{i}: {A} + {B} = {A+B}')"
   ]
  },
  {
   "cell_type": "markdown",
   "metadata": {},
   "source": [
    "#### \t2438\t별 찍기 - 1"
   ]
  },
  {
   "cell_type": "code",
   "execution_count": 101,
   "metadata": {},
   "outputs": [],
   "source": [
    "# N = int(input())\n",
    "# for i in range(1,N+1):\n",
    "#         print('*'*i)"
   ]
  },
  {
   "cell_type": "markdown",
   "metadata": {},
   "source": [
    "#### 2439별 찍기 - 2"
   ]
  },
  {
   "cell_type": "code",
   "execution_count": 102,
   "metadata": {},
   "outputs": [],
   "source": [
    "# N = int(input())\n",
    "# for i in range(1,N+1):\n",
    "#         print(' '*(N-i),end='')\n",
    "#         print('*'*i)"
   ]
  },
  {
   "cell_type": "markdown",
   "metadata": {},
   "source": [
    "#### 10952A+B - 5"
   ]
  },
  {
   "cell_type": "code",
   "execution_count": 103,
   "metadata": {},
   "outputs": [],
   "source": [
    "# A, B = map(int,input().split())\n",
    "# while A!= 0 and B!=0:\n",
    "#     print(A+B)\n",
    "#     A, B = map(int,input().split())\n"
   ]
  },
  {
   "cell_type": "markdown",
   "metadata": {},
   "source": [
    "#### \t10951\tA+B - 4"
   ]
  },
  {
   "cell_type": "code",
   "execution_count": 104,
   "metadata": {},
   "outputs": [],
   "source": [
    "# while True:\n",
    "#     try:\n",
    "#         A, B = map(int, input().split())\n",
    "#         print(A+B)\n",
    "#     except:\n",
    "#         break"
   ]
  },
  {
   "cell_type": "markdown",
   "metadata": {},
   "source": [
    "## 1차원 배열"
   ]
  },
  {
   "cell_type": "markdown",
   "metadata": {},
   "source": [
    "#### \t10807\t개수 세기"
   ]
  },
  {
   "cell_type": "code",
   "execution_count": 105,
   "metadata": {},
   "outputs": [],
   "source": [
    "# N = int(input())\n",
    "# A = list(map(int,input().split()))\n",
    "# v = int(input())\n",
    "\n",
    "# print(A.count(v))"
   ]
  },
  {
   "cell_type": "markdown",
   "metadata": {},
   "source": [
    "#### \t10871\tX보다 작은 수"
   ]
  },
  {
   "cell_type": "code",
   "execution_count": 106,
   "metadata": {},
   "outputs": [],
   "source": [
    "# N, X = map(int,input().split())\n",
    "# A = list(map(int,input().split()))\n",
    "\n",
    "# for N in range(N):\n",
    "#     if A[N] <X:\n",
    "#         print(A[N],end=' ')"
   ]
  },
  {
   "cell_type": "markdown",
   "metadata": {},
   "source": [
    "#### 10818\t최소, 최대"
   ]
  },
  {
   "cell_type": "code",
   "execution_count": 107,
   "metadata": {},
   "outputs": [],
   "source": [
    "# N = int(input())\n",
    "# a = list(map(int,input().split()))\n",
    "# print(min(a),max(a))"
   ]
  },
  {
   "cell_type": "markdown",
   "metadata": {},
   "source": [
    "#### 2562\t최댓값"
   ]
  },
  {
   "cell_type": "code",
   "execution_count": 108,
   "metadata": {},
   "outputs": [],
   "source": [
    "# a,num = 0, 0\n",
    "\n",
    "# for i in range(9):\n",
    "#     b = int(input())\n",
    "#     if b > a:\n",
    "#         a = b\n",
    "#         num = i+1\n",
    "# print(a)\n",
    "# print(num)"
   ]
  },
  {
   "cell_type": "markdown",
   "metadata": {},
   "source": [
    "#### \t10810\t공 넣기"
   ]
  },
  {
   "cell_type": "code",
   "execution_count": 109,
   "metadata": {},
   "outputs": [],
   "source": [
    "# N, M = map(int,input().split())\n",
    "# basket = [0]*N\n",
    "\n",
    "# for _ in range(M):\n",
    "#     a, b, num = map(int,input().split())\n",
    "#     basket[a-1:b] = [num]*(b-a+1)\n",
    "# result  =' '.join(map(str,basket))\n",
    "\n",
    "# print(result)"
   ]
  },
  {
   "cell_type": "markdown",
   "metadata": {},
   "source": [
    "#### 10813\t공 바꾸기"
   ]
  },
  {
   "cell_type": "code",
   "execution_count": 110,
   "metadata": {},
   "outputs": [],
   "source": [
    "# N, M = map(int,input().split())\n",
    "# basket = [0]*N\n",
    "# temp = 0\n",
    "\n",
    "# for i in range(N):\n",
    "#     basket[i] = i+1\n",
    "\n",
    "# for _ in range(M):\n",
    "#     a, b = map(int,input().split())\n",
    "#     temp = basket[a-1]\n",
    "#     basket[a-1] = basket[b-1]\n",
    "#     basket[b-1] = temp\n",
    "\n",
    "# for i in range(N):\n",
    "#     print(basket[i],end=' ')"
   ]
  },
  {
   "cell_type": "code",
   "execution_count": 111,
   "metadata": {},
   "outputs": [],
   "source": [
    "# N, M = map(int, input().split())\n",
    "# basket = list(range(1, N + 1))\n",
    "\n",
    "# for _ in range(M):\n",
    "#     a, b = map(int, input().split())\n",
    "#     basket[a-1], basket[b-1] = basket[b-1], basket[a-1]\n",
    "\n",
    "# print(*basket)"
   ]
  },
  {
   "cell_type": "markdown",
   "metadata": {},
   "source": [
    "#### 5597\t과제 안 내신 분..?"
   ]
  },
  {
   "cell_type": "code",
   "execution_count": 112,
   "metadata": {},
   "outputs": [],
   "source": [
    "# students = list(range(1,31))\n",
    "# submitted = []\n",
    "# for _ in range(1,29):\n",
    "#     submitted.append(int(input()))\n",
    "\n",
    "# not_sub = [student for student in students if student not in submitted]\n",
    "\n",
    "# print(sorted(not_sub)[0])\n",
    "# print(sorted(not_sub)[1])"
   ]
  },
  {
   "cell_type": "code",
   "execution_count": 113,
   "metadata": {},
   "outputs": [],
   "source": [
    "# students = set(range(1, 31))\n",
    "# submitted = set(int(input()) for _ in range(1, 29))\n",
    "\n",
    "# not_sub = sorted(list(students - submitted))\n",
    "\n",
    "# print(not_sub[0])\n",
    "# print(not_sub[1])\n"
   ]
  },
  {
   "cell_type": "markdown",
   "metadata": {},
   "source": [
    "#### \t3052\t나머지"
   ]
  },
  {
   "cell_type": "code",
   "execution_count": 114,
   "metadata": {},
   "outputs": [],
   "source": [
    "# num_list=[]\n",
    "# for _ in range(10):\n",
    "#     a = int(input())\n",
    "#     remain = a%42\n",
    "#     num_list.append(remain)\n",
    "\n",
    "# print(len(set(num_list)))"
   ]
  },
  {
   "cell_type": "markdown",
   "metadata": {},
   "source": [
    "#### \t10811\t바구니 뒤집기"
   ]
  },
  {
   "cell_type": "code",
   "execution_count": 115,
   "metadata": {},
   "outputs": [],
   "source": [
    "# N, M = map(int, input().split())\n",
    "# basket = list(range(1,N+1))\n",
    "\n",
    "# for _ in range(M):\n",
    "#     i, j = map(int, input().split())\n",
    "#     basket[i-1:j] = reversed(basket[i-1:j])\n",
    "\n",
    "# print(*basket)"
   ]
  },
  {
   "cell_type": "markdown",
   "metadata": {},
   "source": [
    "#### 1546\t평균 "
   ]
  },
  {
   "cell_type": "code",
   "execution_count": 116,
   "metadata": {},
   "outputs": [],
   "source": [
    "# N = int(input())\n",
    "# score = list(map(int,input().split()))\n",
    "# max_score = max(score)\n",
    "# for i in range(N):\n",
    "#     score[i] = score[i]/max_score*100\n",
    "\n",
    "# print((sum(score))/N)"
   ]
  },
  {
   "cell_type": "markdown",
   "metadata": {},
   "source": [
    "## 문자열"
   ]
  },
  {
   "cell_type": "markdown",
   "metadata": {},
   "source": [
    "27866\t문자와 문자열"
   ]
  },
  {
   "cell_type": "code",
   "execution_count": 117,
   "metadata": {},
   "outputs": [],
   "source": [
    "# word = input()\n",
    "# i = int(input())\n",
    "# print(word[i-1])"
   ]
  },
  {
   "cell_type": "markdown",
   "metadata": {},
   "source": [
    "2743\t단어 길이 재기"
   ]
  },
  {
   "cell_type": "code",
   "execution_count": 118,
   "metadata": {},
   "outputs": [],
   "source": [
    "# word = input()\n",
    "# print(len(word))"
   ]
  },
  {
   "cell_type": "markdown",
   "metadata": {},
   "source": [
    "9086\t문자열"
   ]
  },
  {
   "cell_type": "code",
   "execution_count": 119,
   "metadata": {},
   "outputs": [],
   "source": [
    "# case = int(input())\n",
    "# for _ in range(case):\n",
    "#     word = input()\n",
    "#     print(word[0]+word[-1])"
   ]
  },
  {
   "cell_type": "markdown",
   "metadata": {},
   "source": [
    "11654\t아스키 코드"
   ]
  },
  {
   "cell_type": "code",
   "execution_count": 120,
   "metadata": {},
   "outputs": [],
   "source": [
    "# alph = input()\n",
    "# print(ord(alph))"
   ]
  },
  {
   "cell_type": "markdown",
   "metadata": {},
   "source": [
    "11720숫자의 합"
   ]
  },
  {
   "cell_type": "code",
   "execution_count": 121,
   "metadata": {},
   "outputs": [],
   "source": [
    "# N = input()\n",
    "# N_2 = input()\n",
    "# print(sum(map(int,N_2)))"
   ]
  },
  {
   "cell_type": "code",
   "execution_count": 122,
   "metadata": {},
   "outputs": [],
   "source": [
    "# S = input()\n",
    "\n",
    "# for i in range(97,123):\n",
    "#     if chr(i) in S:\n",
    "#         print(S.index(chr(i)),end=' ')\n",
    "#     else :\n",
    "#         print(-1,end=' ')"
   ]
  },
  {
   "cell_type": "markdown",
   "metadata": {},
   "source": [
    "2675문자열 반복"
   ]
  },
  {
   "cell_type": "code",
   "execution_count": 123,
   "metadata": {},
   "outputs": [],
   "source": [
    "# s = int(input())\n",
    "# for _ in range(s):\n",
    "#     r, p = input().split()\n",
    "#     for char in p:\n",
    "#         print(char*int(r),end='')\n",
    "#     print()"
   ]
  },
  {
   "cell_type": "markdown",
   "metadata": {},
   "source": [
    "1152\t단어의 개수"
   ]
  },
  {
   "cell_type": "code",
   "execution_count": 124,
   "metadata": {},
   "outputs": [],
   "source": [
    "# sentence = input().split()\n",
    "# print(len(sentence))"
   ]
  },
  {
   "cell_type": "markdown",
   "metadata": {},
   "source": [
    "2908\t상수"
   ]
  },
  {
   "cell_type": "code",
   "execution_count": 125,
   "metadata": {},
   "outputs": [],
   "source": [
    "# num1, num2 = input().split()\n",
    "# num1_sangsu = int(num1[2]+num1[1]+num1[0])\n",
    "# num2_sangsu = int(num2[2]+num2[1]+num2[0])\n",
    "# print(max(num1_sangsu,num2_sangsu))"
   ]
  },
  {
   "cell_type": "code",
   "execution_count": 126,
   "metadata": {},
   "outputs": [],
   "source": [
    "# num1, num2 = input().split()\n",
    "# num1, num2 = int(num1[::-1]), int(num2[::-1])\n",
    "# print(max(num1,num2))"
   ]
  },
  {
   "cell_type": "markdown",
   "metadata": {},
   "source": [
    "5622\t다이얼"
   ]
  },
  {
   "cell_type": "code",
   "execution_count": 127,
   "metadata": {},
   "outputs": [],
   "source": [
    "# dial = ['ABC', 'DEF', 'GHI', 'JKL', 'MNO', 'PQRS', 'TUV', 'WXYZ']\n",
    "# word = input()\n",
    "# time = 0\n",
    "# for char in word:\n",
    "#     for i, letters in enumerate(dial):\n",
    "#         if char in letters:\n",
    "#             time += i + 3\n",
    "#             break\n",
    "# print(time)"
   ]
  },
  {
   "cell_type": "code",
   "execution_count": 128,
   "metadata": {},
   "outputs": [],
   "source": [
    "# word = input()\n",
    "# time = 0\n",
    "\n",
    "# for letters in word:\n",
    "#     if letters in \"ABC\":\n",
    "#         time += 3\n",
    "#     elif letters in \"DEF\":\n",
    "#         time += 4\n",
    "#     elif letters in \"GHI\":\n",
    "#         time += 5\n",
    "#     elif letters in \"JKL\":\n",
    "#         time += 6\n",
    "#     elif letters in \"MNO\":\n",
    "#         time += 7\n",
    "#     elif letters in \"PQRS\":\n",
    "#         time += 8\n",
    "#     elif letters in \"TUV\":\n",
    "#         time += 9\n",
    "#     elif letters in \"WXYZ\":\n",
    "#         time += 10\n",
    "#     elif letters in \" \":\n",
    "#         time += 2\n",
    "#     else:\n",
    "#         time += 11\n",
    "\n",
    "# print(time)"
   ]
  },
  {
   "cell_type": "code",
   "execution_count": 129,
   "metadata": {},
   "outputs": [],
   "source": [
    "# dial = ['ABC', 'DEF', 'GHI', 'JKL', 'MNO', 'PQRS', 'TUV', 'WXYZ']\n",
    "# word = input()\n",
    "# time = 0\n",
    "# for j in range(len(a)):\n",
    "#     for i in dial:\n",
    "#         if a[j] in i:\n",
    "#             time += dial.index(i)+3\n",
    "# print(time)"
   ]
  },
  {
   "cell_type": "markdown",
   "metadata": {},
   "source": [
    "11718\t그대로 출력하기"
   ]
  },
  {
   "cell_type": "code",
   "execution_count": 130,
   "metadata": {},
   "outputs": [],
   "source": [
    "# while True:\n",
    "#     try:\n",
    "#         word = input()\n",
    "#         print(word)\n",
    "#     except EOFError:\n",
    "#         break\n",
    "\n",
    "# # End of the file error"
   ]
  },
  {
   "cell_type": "markdown",
   "metadata": {},
   "source": [
    "## 심화 1"
   ]
  },
  {
   "cell_type": "markdown",
   "metadata": {},
   "source": [
    "25083\t새싹"
   ]
  },
  {
   "cell_type": "code",
   "execution_count": 131,
   "metadata": {},
   "outputs": [],
   "source": [
    "# print('         ,r\\'\"7')\n",
    "# print('r`-_   ,\\'  ,/')\n",
    "# print(' \\. \". L_r\\'')\n",
    "# print('   `~\\/')\n",
    "# print('      |')\n",
    "# print('      |')"
   ]
  },
  {
   "cell_type": "code",
   "execution_count": 132,
   "metadata": {},
   "outputs": [],
   "source": [
    "# print('''         ,r'\"7''')\n",
    "# print('''r`-_   ,'  ,/''')\n",
    "# print(\"\"\" \\. \". L_r'\"\"\")\n",
    "# print('   `~\\/')\n",
    "# print('      |')\n",
    "# print('      |')\n",
    "# # ''' 3개 사용"
   ]
  },
  {
   "cell_type": "markdown",
   "metadata": {},
   "source": [
    "3003\t킹, 퀸, 룩, 비숍, 나이트, 폰"
   ]
  },
  {
   "cell_type": "code",
   "execution_count": 133,
   "metadata": {},
   "outputs": [],
   "source": [
    "# piece = [1,1,2,2,2,8]\n",
    "# found = list(map(int,input().split()))\n",
    "\n",
    "# for i in range(6):\n",
    "#     print(piece[i]-found[i],end=' ')\n"
   ]
  },
  {
   "cell_type": "markdown",
   "metadata": {},
   "source": [
    "\t2444\t별 찍기 - 7"
   ]
  },
  {
   "cell_type": "code",
   "execution_count": 134,
   "metadata": {},
   "outputs": [],
   "source": [
    "# N = int(input())\n",
    "\n",
    "# for i in range(1, 2*N, 2):\n",
    "#     print(\" \" * ((2*N-1-i)//2) + \"*\" * i)\n",
    "\n",
    "# for i in range(2*N-3, 0, -2):\n",
    "#     print(\" \" * ((2*N-1-i)//2) + \"*\" * i)\n"
   ]
  },
  {
   "cell_type": "markdown",
   "metadata": {},
   "source": [
    "\t10988\t팰린드롬인지 확인하기"
   ]
  },
  {
   "cell_type": "code",
   "execution_count": 135,
   "metadata": {},
   "outputs": [],
   "source": [
    "# word = input()\n",
    "# reverse = word[::-1]\n",
    "\n",
    "# if word ==reverse:\n",
    "#     print(1)\n",
    "# else :\n",
    "#     print(0)"
   ]
  },
  {
   "cell_type": "markdown",
   "metadata": {},
   "source": [
    "1157\t단어 공부"
   ]
  },
  {
   "cell_type": "code",
   "execution_count": 136,
   "metadata": {},
   "outputs": [],
   "source": [
    "# word = input().upper()\n",
    "# word_list = list(set(word))\n",
    "\n",
    "# countlist = []\n",
    "\n",
    "# for char in word_list:\n",
    "#     counter = word.count(char)\n",
    "#     countlist.append(counter)\n",
    "\n",
    "# if countlist.count(max(countlist)) > 1:\n",
    "#     print(\"?\")\n",
    "\n",
    "# else :\n",
    "#     print(word_list[countlist.index(max(countlist))])"
   ]
  },
  {
   "cell_type": "markdown",
   "metadata": {},
   "source": [
    "2941\t크로아티아 알파벳"
   ]
  },
  {
   "cell_type": "code",
   "execution_count": 137,
   "metadata": {},
   "outputs": [],
   "source": [
    "# c_a = ['c=', 'c-', 'dz=', 'd-', 'lj', 'nj', 's=', 'z=']\n",
    "# word = input()\n",
    "\n",
    "# for i in c_a :\n",
    "#     word = word.replace(i, 'c')\n",
    "# print(len(word))"
   ]
  },
  {
   "cell_type": "markdown",
   "metadata": {},
   "source": [
    "\t1316\t그룹 단어 체커"
   ]
  },
  {
   "cell_type": "code",
   "execution_count": 138,
   "metadata": {},
   "outputs": [],
   "source": [
    "# num = int(input())\n",
    "# count = 0\n",
    "# alphabet_list =[]\n",
    "\n",
    "# for _ in range(num):\n",
    "#     word = input()\n",
    "#     for i in range(len(word)):\n",
    "#         if i > 0 and word[i] != word[i-1] and word[i] in alphabet_list:\n",
    "#             break\n",
    "#         elif i == len(word)-1:\n",
    "#             count +=1\n",
    "#         else :\n",
    "#             alphabet_list.append(word[i])\n",
    "\n",
    "#     alphabet_list = []\n",
    "\n",
    "\n",
    "# print(count)"
   ]
  },
  {
   "cell_type": "code",
   "execution_count": 139,
   "metadata": {},
   "outputs": [],
   "source": [
    "# # 하나씩 빼는방법\n",
    "# n = int(input())\n",
    "# ans = n\n",
    "\n",
    "# for _ in range():\n",
    "#     word= input()\n",
    "\n",
    "#     for i in range(len(word)-1):\n",
    "#         if word[i] ==word[i+1]:\n",
    "#             pass\n",
    "#         elif word[i] in word[i+1:]:\n",
    "#             ans -= 1\n",
    "#             break\n",
    "# print(ans)"
   ]
  },
  {
   "cell_type": "code",
   "execution_count": 140,
   "metadata": {},
   "outputs": [],
   "source": [
    "# # find, for에 바로 input, sorted&find 활용\n",
    "# result = 0\n",
    "# for i in range(int(input())):\n",
    "#     word = input()\n",
    "#     if list(word) == sorted(word, key=word.find):  \n",
    "#         result += 1\n",
    "# print(result)"
   ]
  },
  {
   "cell_type": "markdown",
   "metadata": {},
   "source": [
    "\t25206\t너의 평점은"
   ]
  },
  {
   "cell_type": "code",
   "execution_count": 141,
   "metadata": {},
   "outputs": [],
   "source": [
    "# rating = ['A+', 'A0', 'B+', 'B0', 'C+', 'C0', 'D+', 'D0', 'F']\n",
    "# grades = [4.5, 4.0, 3.5, 3.0, 2.5, 2.0, 1.5, 1.0, 0]\n",
    "\n",
    "\n",
    "# total_grade = 0\n",
    "# total_credits = 0\n",
    "\n",
    "# for _ in range(20):\n",
    "#     subject,credit, grade = input().split()\n",
    "#     credit = float(credit)\n",
    "#     if grade != 'P' :\n",
    "#         total_grade += credit*grades[rating.index(grade)]\n",
    "#         total_credits += credit\n",
    "\n",
    "# print(total_grade/total_credits)"
   ]
  },
  {
   "cell_type": "code",
   "execution_count": 142,
   "metadata": {},
   "outputs": [],
   "source": [
    "# #딕셔너리\n",
    "# score = {'A+': 4.5, 'A0': 4.0, 'B+': 3.5, 'B0': 3.0,\n",
    "#          'C+': 2.5, 'C0': 2.0, 'D+': 1.5, 'D0': 1.0, 'F': 0.0}\n",
    "\n",
    "# total_credits = 0\n",
    "# total_grades = 0\n",
    "# for _ in range(20):\n",
    "#     subject, credit, grade = input().split()\n",
    "#     credit = float(credit)\n",
    "#     if grade != 'P':\n",
    "#         total_credits += credit\n",
    "#         total_grades += credit * score[grade]\n",
    "\n",
    "# print(total_grades / total_credits)"
   ]
  },
  {
   "cell_type": "markdown",
   "metadata": {},
   "source": [
    "## 2차원 배열"
   ]
  },
  {
   "cell_type": "markdown",
   "metadata": {},
   "source": [
    "2738\t행렬 덧셈"
   ]
  },
  {
   "cell_type": "code",
   "execution_count": 143,
   "metadata": {},
   "outputs": [],
   "source": [
    "# N, M = map(int,input().split())\n",
    "# array_1, array_2 = [],[]\n",
    "\n",
    "# for i in range(N):\n",
    "#     array_1.append(list(map(int,input().split())))\n",
    "\n",
    "# for i in range(N):\n",
    "#     array_2.append(list(map(int,input().split())))\n",
    "\n",
    "# for i in range(N):\n",
    "#     for j in range(M):\n",
    "#         print(array_1[i][j]+array_2[i][j],end=' ')\n",
    "#     print()"
   ]
  },
  {
   "cell_type": "markdown",
   "metadata": {},
   "source": [
    "2566\t최댓값"
   ]
  },
  {
   "cell_type": "code",
   "execution_count": 144,
   "metadata": {},
   "outputs": [],
   "source": [
    "# # append\n",
    "# array_1 =  []\n",
    "# max_num, max_row, max_col = 0, 0, 0\n",
    "\n",
    "# for _ in range(9):\n",
    "#     array_1.append(list(map(int,input().split())))\n",
    "\n",
    "# for row in range(9):\n",
    "#     for col in range(9):\n",
    "#         if array_1[row][col] >= max_num:\n",
    "#             max_num = array_1[row][col]\n",
    "#             max_row = row+1\n",
    "#             max_col = col+1\n",
    "\n",
    "# print(max_num)\n",
    "# print(max_row,max_col)"
   ]
  },
  {
   "cell_type": "code",
   "execution_count": 145,
   "metadata": {},
   "outputs": [],
   "source": [
    "# # append 없이 array 생성\n",
    "# array_1 = [list(map(int, input().split())) for _ in range(9)]\n",
    "\n",
    "# max_num = 0\n",
    "# max_row, max_col = 0, 0\n",
    "# for row in range(9):\n",
    "#     for col in range(9):\n",
    "#         if max_num <= array_1[row][col]:\n",
    "#             max_row = row + 1\n",
    "#             max_col = col + 1\n",
    "#             max_num = array_1[row][col]\n",
    "\n",
    "# print(max_num)\n",
    "# print(max_row, max_col)"
   ]
  },
  {
   "cell_type": "markdown",
   "metadata": {},
   "source": [
    "10798세로읽기"
   ]
  },
  {
   "cell_type": "code",
   "execution_count": 146,
   "metadata": {},
   "outputs": [],
   "source": [
    "# word_list = [input() for _ in range(5)]\n",
    "\n",
    "# for row in range(15):\n",
    "#     for col in range(5):\n",
    "#         if row < len(word_list[col]):\n",
    "#             print(word_list[col][row],end='')"
   ]
  },
  {
   "cell_type": "markdown",
   "metadata": {},
   "source": [
    "2563색종이"
   ]
  },
  {
   "cell_type": "code",
   "execution_count": 147,
   "metadata": {},
   "outputs": [],
   "source": [
    "# square = [[0 for j in range(100)] for i in range(100)]\n",
    "# num = int(input())\n",
    "\n",
    "# for _ in range(num):\n",
    "#     x, y = map(int,input().split())\n",
    "    \n",
    "#     for fill_x in range(x,x+10):\n",
    "#         for fill_y in range(y,y+10):\n",
    "#             square[fill_x][fill_y] = 1\n",
    "\n",
    "# print(sum(row.count(1) for row in square))"
   ]
  },
  {
   "cell_type": "markdown",
   "metadata": {},
   "source": [
    "## 일반 수학 1"
   ]
  },
  {
   "cell_type": "markdown",
   "metadata": {},
   "source": [
    "2745\t진법 변환"
   ]
  },
  {
   "cell_type": "code",
   "execution_count": 148,
   "metadata": {},
   "outputs": [],
   "source": [
    "# #리스트\n",
    "# N, B = input().split()\n",
    "# alphabet = ['A', 'B', 'C', 'D', 'E', 'F', 'G', 'H', 'I', 'J', 'K', 'L', 'M', 'N', 'O', 'P', 'Q', 'R', 'S', 'T', 'U', 'V', 'W', 'X', 'Y', 'Z']\n",
    "# number = [10, 11, 12, 13, 14, 15, 16, 17, 18, 19, 20, 21, 22, 23, 24, 25, 26, 27, 28, 29, 30, 31, 32, 33, 34, 35]\n",
    "# result = 0\n",
    "\n",
    "# for i in range(len(N)):\n",
    "#     if N[i] in alphabet:\n",
    "#         result += int(number[alphabet.index(N[i])])*int(B)**(len(N)-i-1)\n",
    "#     else:\n",
    "#         result += int(N[i])*int(B)**(len(N)-i-1)\n",
    "\n",
    "# print(result)"
   ]
  },
  {
   "cell_type": "code",
   "execution_count": 149,
   "metadata": {},
   "outputs": [],
   "source": [
    "# #리스트 더 심플하게\n",
    "# num_list = \"0123456789ABCDEFGHIJKLMNOPQRSTUVWXYZ\"\n",
    "\n",
    "# N, B = input().split()\n",
    "# result = 0\n",
    "# for i, num in enumerate(N[::-1]):\n",
    "#     result += int(B) ** i * num_list.index(num)\n",
    "# print(result)"
   ]
  },
  {
   "cell_type": "markdown",
   "metadata": {},
   "source": [
    "11005\t진법 변환 2"
   ]
  },
  {
   "cell_type": "code",
   "execution_count": 150,
   "metadata": {},
   "outputs": [],
   "source": [
    "# N, B = map(int,input().split())\n",
    "# num_list = \"0123456789ABCDEFGHIJKLMNOPQRSTUVWXYZ\"\n",
    "# result = ''\n",
    "\n",
    "# while N:\n",
    "#     result += str(num_list[N%B])\n",
    "#     N //= B\n",
    "\n",
    "# print(result[::-1])"
   ]
  },
  {
   "cell_type": "markdown",
   "metadata": {},
   "source": [
    "2720\t세탁소 사장 동혁"
   ]
  },
  {
   "cell_type": "code",
   "execution_count": 151,
   "metadata": {},
   "outputs": [],
   "source": [
    "# T = int(input())\n",
    "# quarter = 25\n",
    "# dime = 10\n",
    "# nickel = 5\n",
    "# penny = 1\n",
    "\n",
    "\n",
    "# for _ in range(T):\n",
    "#     change = int(input())\n",
    "\n",
    "#     quarter_n = change//quarter\n",
    "#     change -= quarter_n*quarter\n",
    "\n",
    "#     dime_n = change//dime\n",
    "#     change -= dime_n*dime\n",
    "\n",
    "#     nickel_n = change//nickel\n",
    "#     change -= nickel_n*nickel\n",
    "\n",
    "#     penny_n = change//penny\n",
    "#     print(quarter_n,dime_n,nickel_n,penny_n)\n"
   ]
  },
  {
   "cell_type": "code",
   "execution_count": 152,
   "metadata": {},
   "outputs": [],
   "source": [
    "# T = int(input())\n",
    "\n",
    "# for _ in range(T):\n",
    "# \tchange = int(input())\n",
    "# \tfor i in [25, 10, 5, 1]:\n",
    "# \t\tprint(change//i, end=' ')\n",
    "# \t\tchange = change%i"
   ]
  },
  {
   "cell_type": "markdown",
   "metadata": {},
   "source": [
    "\t2903\t중앙 이동 알고리즘"
   ]
  },
  {
   "cell_type": "code",
   "execution_count": 153,
   "metadata": {},
   "outputs": [],
   "source": [
    "# N = int(input())\n",
    "# print((2**N+1)**2)"
   ]
  },
  {
   "cell_type": "markdown",
   "metadata": {},
   "source": [
    "2292\t벌집"
   ]
  },
  {
   "cell_type": "code",
   "execution_count": 154,
   "metadata": {},
   "outputs": [
    {
     "ename": "KeyboardInterrupt",
     "evalue": "Interrupted by user",
     "output_type": "error",
     "traceback": [
      "\u001b[1;31m---------------------------------------------------------------------------\u001b[0m",
      "\u001b[1;31mKeyboardInterrupt\u001b[0m                         Traceback (most recent call last)",
      "Cell \u001b[1;32mIn[154], line 1\u001b[0m\n\u001b[1;32m----> 1\u001b[0m N \u001b[38;5;241m=\u001b[39m \u001b[38;5;28mint\u001b[39m(\u001b[38;5;28;43minput\u001b[39;49m\u001b[43m(\u001b[49m\u001b[43m)\u001b[49m)\n\u001b[0;32m      2\u001b[0m num \u001b[38;5;241m=\u001b[39m \u001b[38;5;241m1\u001b[39m\n\u001b[0;32m      4\u001b[0m \u001b[38;5;28;01mfor\u001b[39;00m i \u001b[38;5;129;01min\u001b[39;00m \u001b[38;5;28mrange\u001b[39m(N):\n",
      "File \u001b[1;32m~\\AppData\\Roaming\\Python\\Python312\\site-packages\\ipykernel\\kernelbase.py:1270\u001b[0m, in \u001b[0;36mKernel.raw_input\u001b[1;34m(self, prompt)\u001b[0m\n\u001b[0;32m   1268\u001b[0m     msg \u001b[38;5;241m=\u001b[39m \u001b[38;5;124m\"\u001b[39m\u001b[38;5;124mraw_input was called, but this frontend does not support input requests.\u001b[39m\u001b[38;5;124m\"\u001b[39m\n\u001b[0;32m   1269\u001b[0m     \u001b[38;5;28;01mraise\u001b[39;00m StdinNotImplementedError(msg)\n\u001b[1;32m-> 1270\u001b[0m \u001b[38;5;28;01mreturn\u001b[39;00m \u001b[38;5;28;43mself\u001b[39;49m\u001b[38;5;241;43m.\u001b[39;49m\u001b[43m_input_request\u001b[49m\u001b[43m(\u001b[49m\n\u001b[0;32m   1271\u001b[0m \u001b[43m    \u001b[49m\u001b[38;5;28;43mstr\u001b[39;49m\u001b[43m(\u001b[49m\u001b[43mprompt\u001b[49m\u001b[43m)\u001b[49m\u001b[43m,\u001b[49m\n\u001b[0;32m   1272\u001b[0m \u001b[43m    \u001b[49m\u001b[38;5;28;43mself\u001b[39;49m\u001b[38;5;241;43m.\u001b[39;49m\u001b[43m_parent_ident\u001b[49m\u001b[43m[\u001b[49m\u001b[38;5;124;43m\"\u001b[39;49m\u001b[38;5;124;43mshell\u001b[39;49m\u001b[38;5;124;43m\"\u001b[39;49m\u001b[43m]\u001b[49m\u001b[43m,\u001b[49m\n\u001b[0;32m   1273\u001b[0m \u001b[43m    \u001b[49m\u001b[38;5;28;43mself\u001b[39;49m\u001b[38;5;241;43m.\u001b[39;49m\u001b[43mget_parent\u001b[49m\u001b[43m(\u001b[49m\u001b[38;5;124;43m\"\u001b[39;49m\u001b[38;5;124;43mshell\u001b[39;49m\u001b[38;5;124;43m\"\u001b[39;49m\u001b[43m)\u001b[49m\u001b[43m,\u001b[49m\n\u001b[0;32m   1274\u001b[0m \u001b[43m    \u001b[49m\u001b[43mpassword\u001b[49m\u001b[38;5;241;43m=\u001b[39;49m\u001b[38;5;28;43;01mFalse\u001b[39;49;00m\u001b[43m,\u001b[49m\n\u001b[0;32m   1275\u001b[0m \u001b[43m\u001b[49m\u001b[43m)\u001b[49m\n",
      "File \u001b[1;32m~\\AppData\\Roaming\\Python\\Python312\\site-packages\\ipykernel\\kernelbase.py:1313\u001b[0m, in \u001b[0;36mKernel._input_request\u001b[1;34m(self, prompt, ident, parent, password)\u001b[0m\n\u001b[0;32m   1310\u001b[0m \u001b[38;5;28;01mexcept\u001b[39;00m \u001b[38;5;167;01mKeyboardInterrupt\u001b[39;00m:\n\u001b[0;32m   1311\u001b[0m     \u001b[38;5;66;03m# re-raise KeyboardInterrupt, to truncate traceback\u001b[39;00m\n\u001b[0;32m   1312\u001b[0m     msg \u001b[38;5;241m=\u001b[39m \u001b[38;5;124m\"\u001b[39m\u001b[38;5;124mInterrupted by user\u001b[39m\u001b[38;5;124m\"\u001b[39m\n\u001b[1;32m-> 1313\u001b[0m     \u001b[38;5;28;01mraise\u001b[39;00m \u001b[38;5;167;01mKeyboardInterrupt\u001b[39;00m(msg) \u001b[38;5;28;01mfrom\u001b[39;00m \u001b[38;5;28;01mNone\u001b[39;00m\n\u001b[0;32m   1314\u001b[0m \u001b[38;5;28;01mexcept\u001b[39;00m \u001b[38;5;167;01mException\u001b[39;00m:\n\u001b[0;32m   1315\u001b[0m     \u001b[38;5;28mself\u001b[39m\u001b[38;5;241m.\u001b[39mlog\u001b[38;5;241m.\u001b[39mwarning(\u001b[38;5;124m\"\u001b[39m\u001b[38;5;124mInvalid Message:\u001b[39m\u001b[38;5;124m\"\u001b[39m, exc_info\u001b[38;5;241m=\u001b[39m\u001b[38;5;28;01mTrue\u001b[39;00m)\n",
      "\u001b[1;31mKeyboardInterrupt\u001b[0m: Interrupted by user"
     ]
    }
   ],
   "source": [
    "N = int(input())\n",
    "num = 1\n",
    "\n",
    "for i in range(N):\n",
    "    num += i*6\n",
    "    if N <= num:\n",
    "        print(i+1)\n",
    "        break"
   ]
  },
  {
   "cell_type": "markdown",
   "metadata": {},
   "source": [
    "1193\t 분수찾기"
   ]
  },
  {
   "cell_type": "code",
   "execution_count": null,
   "metadata": {},
   "outputs": [],
   "source": [
    "# num = int(input())\n",
    "# line = 1\n",
    "\n",
    "# while num > line:\n",
    "#     num -= line\n",
    "#     line += 1\n",
    "    \n",
    "\n",
    "# if line % 2 == 0:\n",
    "#     numerator = num\n",
    "#     denominator = line - num + 1\n",
    "\n",
    "# elif line % 2 == 1:\n",
    "#     numerator = line - num + 1\n",
    "#     denominator = num\n",
    "\n",
    "# print(f'{numerator}/{denominator}')"
   ]
  },
  {
   "cell_type": "code",
   "execution_count": null,
   "metadata": {},
   "outputs": [
    {
     "ename": "SyntaxError",
     "evalue": "invalid syntax (3491750599.py, line 1)",
     "output_type": "error",
     "traceback": [
      "\u001b[1;36m  Cell \u001b[1;32mIn[78], line 1\u001b[1;36m\u001b[0m\n\u001b[1;33m    2869\t 달팽이는 올라가고 싶다\u001b[0m\n\u001b[1;37m        \t ^\u001b[0m\n\u001b[1;31mSyntaxError\u001b[0m\u001b[1;31m:\u001b[0m invalid syntax\n"
     ]
    }
   ],
   "source": [
    "2869\t 달팽이는 올라가고 싶다"
   ]
  },
  {
   "cell_type": "code",
   "execution_count": null,
   "metadata": {},
   "outputs": [
    {
     "name": "stdout",
     "output_type": "stream",
     "text": [
      "99901\n"
     ]
    }
   ],
   "source": [
    "# # 제한시간 0.15초로 시간초과 반복무 사용 X\n",
    "# A, B, V = map(int,input().split())\n",
    "# height = 0 \n",
    "\n",
    "# for day in range(1,V):\n",
    "#     height += A\n",
    "#     if height >= V:\n",
    "#         print(day)\n",
    "#         break\n",
    "#     else:\n",
    "#         height -= B"
   ]
  },
  {
   "cell_type": "code",
   "execution_count": null,
   "metadata": {},
   "outputs": [],
   "source": [
    "# #ceil\n",
    "# import math\n",
    "# A, B, V = map(int,input().split())\n",
    "# day = (V-B) / (A-B)\n",
    "# print(math.ceil(day)) #print(int(day) if day == int(day) else int(day)+1)"
   ]
  },
  {
   "cell_type": "markdown",
   "metadata": {},
   "source": [
    "## 약수, 배수와 소수"
   ]
  },
  {
   "cell_type": "markdown",
   "metadata": {},
   "source": [
    "5086\t 배수와 약수"
   ]
  },
  {
   "cell_type": "code",
   "execution_count": null,
   "metadata": {},
   "outputs": [],
   "source": [
    "# while 1:\n",
    "#     A, B = map(int,input().split())\n",
    "\n",
    "#     if A == 0 and B == 0:\n",
    "#         break\n",
    "#     elif A % B == 0:\n",
    "#         print('multiple')\n",
    "#     elif B % A == 0:\n",
    "#         print('factor')\n",
    "#     else:\n",
    "#         print('neither')   "
   ]
  },
  {
   "cell_type": "markdown",
   "metadata": {},
   "source": [
    "2501\t 약수 구하기"
   ]
  },
  {
   "cell_type": "code",
   "execution_count": null,
   "metadata": {},
   "outputs": [
    {
     "name": "stdout",
     "output_type": "stream",
     "text": [
      "1\n"
     ]
    }
   ],
   "source": [
    "# N, K = map(int, input().split())\n",
    "# count = 0\n",
    "\n",
    "# for i in range(1, N + 1):\n",
    "#     if N % i == 0:\n",
    "#         count += 1\n",
    "#         if count == K:\n",
    "#             print(i)\n",
    "#             break\n",
    "\n",
    "# if count < K:\n",
    "#     print(0)"
   ]
  },
  {
   "cell_type": "code",
   "execution_count": null,
   "metadata": {},
   "outputs": [],
   "source": [
    "# #리스트\n",
    "# arr=[]\n",
    "# N, K = map(int, input().split())\n",
    "# cnt = 0\n",
    "# for i in range(1, N + 1):\n",
    "#     if N % i == 0:\n",
    "#         arr.append(i)\n",
    "#     cnt += 1\n",
    "\n",
    "# if K > len(arr):\n",
    "#     print(0)\n",
    "# else:\n",
    "#     print(arr[K-1])"
   ]
  },
  {
   "cell_type": "markdown",
   "metadata": {},
   "source": [
    "9506\t 약수들의 합"
   ]
  },
  {
   "cell_type": "code",
   "execution_count": null,
   "metadata": {},
   "outputs": [
    {
     "name": "stdout",
     "output_type": "stream",
     "text": [
      "6 = 1 + 2 + 3\n"
     ]
    }
   ],
   "source": [
    "# while 1:\n",
    "#     n = int(input())\n",
    "\n",
    "#     if n == -1:\n",
    "#         break\n",
    "\n",
    "#     arr = []\n",
    "#     for i in range(1, n):\n",
    "#         if n % i == 0:\n",
    "#             arr.append(i)\n",
    "\n",
    "\n",
    "#     if sum(arr) == n:\n",
    "#         # print(n,'=', '+'.join(str(i) for i in arr), sep='')\n",
    "#         print(n,\"=\",end=\" \")\n",
    "#         print(*arr,sep=\" + \")\n",
    "#     else:\n",
    "#         print(n,'is NOT perfect.')"
   ]
  },
  {
   "cell_type": "markdown",
   "metadata": {},
   "source": [
    "1978\t 소수 찾기"
   ]
  },
  {
   "cell_type": "code",
   "execution_count": null,
   "metadata": {},
   "outputs": [
    {
     "name": "stdout",
     "output_type": "stream",
     "text": [
      "2\n"
     ]
    }
   ],
   "source": [
    "# N = int(input())\n",
    "# num_list = list(map(int,input().split()))\n",
    "# count = 0\n",
    "# A = 0\n",
    "\n",
    "# for num in num_list:\n",
    "#     for i in range(1,num):\n",
    "#         if num % i == 0:\n",
    "#             A += 1\n",
    "#     if A == 1:\n",
    "#         count += 1\n",
    "#         A = 0\n",
    "#     else :\n",
    "#         A =0\n",
    "# print(count)"
   ]
  },
  {
   "cell_type": "code",
   "execution_count": null,
   "metadata": {},
   "outputs": [],
   "source": [
    "# # 2부터 해서 간단히\n",
    "# n = int(input())\n",
    "# data = list(map(int, input().split()))\n",
    "# count = 0\n",
    "\n",
    "# for x in data:\n",
    "#   for i in range(2, x+1):\n",
    "#     if x % i == 0:\n",
    "#       if x == i:\n",
    "#         count += 1\n",
    "      \n",
    "#       break\n",
    "\n",
    "# print(count)"
   ]
  },
  {
   "cell_type": "markdown",
   "metadata": {},
   "source": [
    "2581\t 소수"
   ]
  },
  {
   "cell_type": "code",
   "execution_count": null,
   "metadata": {},
   "outputs": [],
   "source": [
    "# M = int(input())\n",
    "# N = int(input())\n",
    "# arr = []\n",
    "\n",
    "# for i in range(M, N+1):\n",
    "#     for j in range(2, i+1):\n",
    "#             if j == i:\n",
    "#                 arr.append(i)\n",
    "#             if i % j == 0:\n",
    "#                 break\n",
    "                \n",
    "# if not arr:\n",
    "#     print(-1)\n",
    "# else:\n",
    "#     print(sum(arr))\n",
    "#     print(arr[0])"
   ]
  },
  {
   "cell_type": "markdown",
   "metadata": {},
   "source": [
    "11653\t 소인수분해"
   ]
  },
  {
   "cell_type": "code",
   "execution_count": null,
   "metadata": {},
   "outputs": [
    {
     "name": "stdout",
     "output_type": "stream",
     "text": [
      "2\n",
      "2\n",
      "2\n",
      "3\n",
      "3\n"
     ]
    }
   ],
   "source": [
    "# N = int(input())\n",
    "\n",
    "# if N == 1:\n",
    "#     print('')\n",
    "\n",
    "# for i in range(2,N+1):\n",
    "#     if N% i == 0:\n",
    "#         while N % i ==0:\n",
    "#             print(i)\n",
    "#             N /= i\n"
   ]
  },
  {
   "cell_type": "code",
   "execution_count": null,
   "metadata": {},
   "outputs": [
    {
     "name": "stdout",
     "output_type": "stream",
     "text": [
      "2\n",
      "2\n",
      "2\n",
      "3\n",
      "3\n"
     ]
    }
   ],
   "source": [
    "# N = int(input())\n",
    "# i = 2\n",
    "# while N > 1:\n",
    "#     if N % i == 0:\n",
    "#         N = N // i\n",
    "#         print(i)\n",
    "#     else:\n",
    "#         i += 1"
   ]
  },
  {
   "cell_type": "markdown",
   "metadata": {},
   "source": [
    "## 기하 : 직사각형과 삼각형"
   ]
  },
  {
   "cell_type": "markdown",
   "metadata": {},
   "source": [
    "27323\t 직사각형"
   ]
  },
  {
   "cell_type": "code",
   "execution_count": null,
   "metadata": {},
   "outputs": [],
   "source": [
    "# A = int(input())\n",
    "# B = int(input())\n",
    "\n",
    "# print(A*B)"
   ]
  },
  {
   "cell_type": "markdown",
   "metadata": {},
   "source": [
    "\t1085\t 직사각형에서 탈출"
   ]
  },
  {
   "cell_type": "code",
   "execution_count": null,
   "metadata": {},
   "outputs": [
    {
     "name": "stdout",
     "output_type": "stream",
     "text": [
      "161\n"
     ]
    }
   ],
   "source": [
    "# x, y, w, h = map(int,input().split())\n",
    "# print(min(abs(x-w),abs(y-h),x,y,w,h))"
   ]
  },
  {
   "cell_type": "markdown",
   "metadata": {},
   "source": [
    "3009\t 네 번째 점"
   ]
  },
  {
   "cell_type": "code",
   "execution_count": null,
   "metadata": {},
   "outputs": [],
   "source": [
    "# x_nums = []\n",
    "# y_nums = []\n",
    "# for _ in range(3):\n",
    "#     x, y = map(int, input().split())\n",
    "#     x_nums.append(x)\n",
    "#     y_nums.append(y)\n",
    "\n",
    "# for i in range(3):\n",
    "#     if x_nums.count(x_nums[i]) == 1:\n",
    "#         x4 = x_nums[i]\n",
    "#     if y_nums.count(y_nums[i]) == 1:\n",
    "#         y4 = y_nums[i]\n",
    "# print(x4, y4)"
   ]
  },
  {
   "cell_type": "code",
   "execution_count": null,
   "metadata": {},
   "outputs": [],
   "source": [
    "# x1,y1 = map(int,input().split())\n",
    "# x2,y2 = map(int,input().split())\n",
    "# x3,y3 = map(int,input().split())\n",
    "# x4 = 0 \n",
    "# y4 = 0\n",
    "\n",
    "# if x1 == x2:\n",
    "#     x4 = x3\n",
    "# elif  x2 == x3: \n",
    "#     x4 = x1\n",
    "# elif x1 == x3: \n",
    "#     x4 = x2\n",
    "\n",
    "# if y1 == y2:\n",
    "#     y4 = y3\n",
    "# elif  y2 == y3: \n",
    "#     y4 = y1\n",
    "# elif y1 == y3: \n",
    "#     y4 = y2\n",
    "\n",
    "# print(x4,y4)"
   ]
  },
  {
   "cell_type": "markdown",
   "metadata": {},
   "source": [
    "\t15894\t 수학은 체육과목 입니다"
   ]
  },
  {
   "cell_type": "code",
   "execution_count": null,
   "metadata": {},
   "outputs": [],
   "source": [
    "# n = int(input())\n",
    "# print(4*n)"
   ]
  },
  {
   "cell_type": "markdown",
   "metadata": {},
   "source": [
    "9063\t 대지"
   ]
  },
  {
   "cell_type": "code",
   "execution_count": null,
   "metadata": {},
   "outputs": [
    {
     "name": "stdout",
     "output_type": "stream",
     "text": [
      "360\n"
     ]
    }
   ],
   "source": [
    "# n = int(input())\n",
    "# x_nums = []\n",
    "# y_nums = []\n",
    "\n",
    "# for _ in range(n):\n",
    "#     x ,  y = map(int,input().split())\n",
    "#     x_nums.append(x)\n",
    "#     y_nums.append(y)\n",
    "\n",
    "# print((max(x_nums)-min(x_nums))*(max(y_nums)-min(y_nums)))"
   ]
  },
  {
   "cell_type": "markdown",
   "metadata": {},
   "source": [
    "10101\t 삼각형 외우기"
   ]
  },
  {
   "cell_type": "code",
   "execution_count": null,
   "metadata": {},
   "outputs": [
    {
     "name": "stdout",
     "output_type": "stream",
     "text": [
      "quilateral\n"
     ]
    }
   ],
   "source": [
    "# a = int(input())\n",
    "# b = int(input())\n",
    "# c = int(input())\n",
    "\n",
    "# if a + b + c == 180:\n",
    "#     if a == b and b==c :\n",
    "#         print('Equilateral')\n",
    "#     elif a==b or b==c or c==a:\n",
    "#         print('Isosceles')\n",
    "#     else:\n",
    "#         print('Scalene')\n",
    "# else:\n",
    "#     print('Error')"
   ]
  },
  {
   "cell_type": "markdown",
   "metadata": {},
   "source": [
    "5073\t 삼각형과 세 변"
   ]
  },
  {
   "cell_type": "code",
   "execution_count": null,
   "metadata": {},
   "outputs": [
    {
     "name": "stdout",
     "output_type": "stream",
     "text": [
      "Equilateral\n",
      "Scalene\n",
      "Invalid\n",
      "Isosceles\n"
     ]
    }
   ],
   "source": [
    "# while 1:\n",
    "#     a,b,c = map(int,input().split())\n",
    "#     if a == b == c ==0:\n",
    "#         break\n",
    "#     elif a==b==c:\n",
    "#         print('Equilateral')\n",
    "#     elif 2*max(a,b,c)>= a+b+c:\n",
    "#         print('Invalid')\n",
    "#     elif a==b or b==c or c==a:\n",
    "#         print('Isosceles')\n",
    "#     else:\n",
    "#         print('Scalene')"
   ]
  },
  {
   "cell_type": "markdown",
   "metadata": {},
   "source": [
    "\t14215\t 세 막대"
   ]
  },
  {
   "cell_type": "code",
   "execution_count": null,
   "metadata": {},
   "outputs": [
    {
     "name": "stdout",
     "output_type": "stream",
     "text": [
      "113\n"
     ]
    }
   ],
   "source": [
    "# num_list = list(map(int,input().split()))\n",
    "# if 2*max(num_list) < sum(num_list):\n",
    "#     print(sum(num_list))\n",
    "# else:\n",
    "#     sort_list = sorted(num_list)\n",
    "\n",
    "#     print(2*(sort_list[0] + sort_list[1])-1)\n"
   ]
  },
  {
   "cell_type": "markdown",
   "metadata": {},
   "source": [
    "## 브루트 포스"
   ]
  },
  {
   "cell_type": "markdown",
   "metadata": {},
   "source": [
    "2798\t 블랙잭"
   ]
  },
  {
   "cell_type": "code",
   "execution_count": null,
   "metadata": {},
   "outputs": [
    {
     "name": "stdout",
     "output_type": "stream",
     "text": [
      "497\n"
     ]
    }
   ],
   "source": [
    "# N, M = map(int,input().split())\n",
    "# num_list = sorted(list(map(int,input().split())))\n",
    "# max= 0 \n",
    "\n",
    "# for i in range(N):\n",
    "#     for j in range(i+1,N):\n",
    "#         for k in range(j+1,N):\n",
    "#             sum = num_list[i] + num_list[j] + num_list[k]\n",
    "#             if sum <= M and sum > max:\n",
    "#                 max = sum\n",
    "\n",
    "\n",
    "# print(max)"
   ]
  },
  {
   "cell_type": "markdown",
   "metadata": {},
   "source": [
    "2231\t 분해합"
   ]
  },
  {
   "cell_type": "code",
   "execution_count": 156,
   "metadata": {},
   "outputs": [
    {
     "name": "stdout",
     "output_type": "stream",
     "text": [
      "198\n"
     ]
    }
   ],
   "source": [
    "# num = int(input())\n",
    "\n",
    "# for i in range(1,num+1):\n",
    "#     nums = map(int,str(i))\n",
    "#     num_sum = i + sum(nums)\n",
    "\n",
    "#     if num_sum ==num:\n",
    "#         print(i)\n",
    "#         break\n",
    "#     if i== num:\n",
    "#         print(0)"
   ]
  },
  {
   "cell_type": "markdown",
   "metadata": {},
   "source": [
    "19532\t 수학은 비대면강의입니다"
   ]
  },
  {
   "cell_type": "code",
   "execution_count": 7,
   "metadata": {},
   "outputs": [
    {
     "name": "stdout",
     "output_type": "stream",
     "text": [
      "2 -1\n"
     ]
    }
   ],
   "source": [
    "# a,b,c,d,e,f = map(int,input().split())\n",
    "\n",
    "# for x in range(-999,1000):\n",
    "#     for y in range(-999,1000):\n",
    "#         if (a*x + b*y == c) and (d*x + e*y == f):\n",
    "#             print(x,y)"
   ]
  },
  {
   "cell_type": "markdown",
   "metadata": {},
   "source": [
    "1018\t 체스판 다시 칠하기"
   ]
  },
  {
   "cell_type": "code",
   "execution_count": null,
   "metadata": {},
   "outputs": [],
   "source": [
    "# N, M = map(int,input().split())\n",
    "# arr =[]\n",
    "# count = []\n",
    "\n",
    "# for _ in range(N):\n",
    "#     arr.append(input())\n",
    "\n",
    "\n",
    "# for row in range(N-7):\n",
    "#     for col in range(M-7):\n",
    "#         w_start = 0\n",
    "#         b_start = 0\n",
    "#         for i in range(row,row+8):\n",
    "#             for j in range(col,col+8):\n",
    "#                 if (i+j)%2==0 :\n",
    "#                     if arr[i][j] != 'W':\n",
    "#                         w_start += 1\n",
    "#                     if arr[i][j] != 'B':\n",
    "#                         b_start += 1\n",
    "#                 else:\n",
    "#                     if arr[i][j] != 'B':\n",
    "#                         w_start += 1\n",
    "#                     if arr[i][j] != 'W':\n",
    "#                         b_start += 1\n",
    "#         count.append(min(w_start,b_start))\n",
    "\n",
    "# print(min(count))"
   ]
  },
  {
   "cell_type": "code",
   "execution_count": null,
   "metadata": {},
   "outputs": [],
   "source": [
    "# # 직접 비교\n",
    "# import sys\n",
    "# chess=[['W', 'B', 'W', 'B', 'W', 'B', 'W', 'B'],\n",
    "#        ['B', 'W', 'B', 'W', 'B', 'W', 'B', 'W'],\n",
    "#        ['W', 'B', 'W', 'B', 'W', 'B', 'W', 'B'],\n",
    "#        ['B', 'W', 'B', 'W', 'B', 'W', 'B', 'W'],\n",
    "#        ['W', 'B', 'W', 'B', 'W', 'B', 'W', 'B'],\n",
    "#        ['B', 'W', 'B', 'W', 'B', 'W', 'B', 'W'],\n",
    "#        ['W', 'B', 'W', 'B', 'W', 'B', 'W', 'B'],\n",
    "#        ['B', 'W', 'B', 'W', 'B', 'W', 'B', 'W']]\n",
    "# n, m = map(int, sys.stdin.readline().split())\n",
    "# res=n*m\n",
    "# inp = []\n",
    "# for _ in range(n):\n",
    "#     inp.append(list(sys.stdin.readline().strip('\\n')))\n",
    "# def ch(x, y):\n",
    "#     cnt=0\n",
    "#     for i in range(8):\n",
    "#         for j in range(8):\n",
    "#             if chess[i][j]==inp[x+i][y+j]:\n",
    "#                 cnt+=1\n",
    "#     return min(cnt, 64-cnt)\n",
    "# for i in range(n-7):\n",
    "#     for j in range(m-7):\n",
    "#         res=min(res, ch(i, j))\n",
    "# print(res)"
   ]
  },
  {
   "cell_type": "markdown",
   "metadata": {},
   "source": [
    "1436\t 영화감독 숌"
   ]
  },
  {
   "cell_type": "code",
   "execution_count": 17,
   "metadata": {},
   "outputs": [
    {
     "name": "stdout",
     "output_type": "stream",
     "text": [
      "2666799\n"
     ]
    }
   ],
   "source": [
    "# num = int(input())\n",
    "\n",
    "# for i in range(666,2666800):\n",
    "#     if '666' in str(i):\n",
    "#         num -= 1\n",
    "#         if num ==0:\n",
    "#             print(i)\n",
    "#             break"
   ]
  },
  {
   "cell_type": "code",
   "execution_count": null,
   "metadata": {},
   "outputs": [],
   "source": [
    "# #while\n",
    "# num = int(input())\n",
    "# i = 666\n",
    "# count = 0\n",
    "\n",
    "# while True:\n",
    "#     if '666' in str(i): \n",
    "#         count+=1\n",
    "#     if count == num: \n",
    "#         print(i)\n",
    "#         break \n",
    "#     i+=1 "
   ]
  },
  {
   "cell_type": "markdown",
   "metadata": {},
   "source": [
    "\t2839\t 설탕 배달"
   ]
  },
  {
   "cell_type": "code",
   "execution_count": 21,
   "metadata": {},
   "outputs": [
    {
     "name": "stdout",
     "output_type": "stream",
     "text": [
      "2\n"
     ]
    }
   ],
   "source": [
    "# #시간초과ㅜ\n",
    "# N = int(input())\n",
    "# bag_num = []\n",
    "\n",
    "# for num_5 in range(10001):\n",
    "#     for num_3 in range(10000):\n",
    "#         if num_5*5 + num_3*3 == N:\n",
    "#             bag_num.append([num_5,num_3])\n",
    "\n",
    "# if bag_num ==[]:\n",
    "#     print(-1)\n",
    "\n",
    "# else:\n",
    "#     print(sum(min(bag_num)))\n"
   ]
  },
  {
   "cell_type": "code",
   "execution_count": 22,
   "metadata": {},
   "outputs": [],
   "source": [
    "# N = int(input())\n",
    "# bag = 0\n",
    "\n",
    "# while N >= 0 :\n",
    "#     if N % 5 == 0 :\n",
    "#         bag += (N // 5)\n",
    "#         print(bag)\n",
    "#         break\n",
    "#     N -= 3  \n",
    "#     bag += 1\n",
    "\n",
    "# else :\n",
    "#     print(-1)"
   ]
  },
  {
   "cell_type": "markdown",
   "metadata": {},
   "source": [
    "## 정렬"
   ]
  },
  {
   "cell_type": "markdown",
   "metadata": {},
   "source": [
    "2750\t 수 정렬하기"
   ]
  },
  {
   "cell_type": "code",
   "execution_count": 36,
   "metadata": {},
   "outputs": [
    {
     "name": "stdout",
     "output_type": "stream",
     "text": [
      "1\n",
      "2\n",
      "4\n"
     ]
    }
   ],
   "source": [
    "# N = int(input())\n",
    "# num_list = []\n",
    "\n",
    "# for _ in range(N):\n",
    "#     num_list.append(int(input()))\n",
    "\n",
    "# for i in range(N):\n",
    "#     print(sorted(num_list)[i])"
   ]
  },
  {
   "cell_type": "markdown",
   "metadata": {},
   "source": [
    "2587\t 대표값2"
   ]
  },
  {
   "cell_type": "code",
   "execution_count": 39,
   "metadata": {},
   "outputs": [
    {
     "name": "stdout",
     "output_type": "stream",
     "text": [
      "34.0\n",
      "40\n"
     ]
    }
   ],
   "source": [
    "# num_list = []\n",
    "\n",
    "# for _ in range(5):\n",
    "#     num_list.append(int(input()))\n",
    "\n",
    "# print(int(sum(num_list)/5))\n",
    "# print(sorted(num_list)[2])"
   ]
  },
  {
   "cell_type": "markdown",
   "metadata": {},
   "source": [
    "25305\t 커트라인"
   ]
  },
  {
   "cell_type": "code",
   "execution_count": 40,
   "metadata": {},
   "outputs": [
    {
     "name": "stdout",
     "output_type": "stream",
     "text": [
      "98\n"
     ]
    }
   ],
   "source": [
    "# N, k = map(int,input().split())\n",
    "# score = sorted(list(map(int,input().split())))\n",
    "\n",
    "# print(score[N-k])"
   ]
  }
 ],
 "metadata": {
  "kernelspec": {
   "display_name": "base",
   "language": "python",
   "name": "python3"
  },
  "language_info": {
   "codemirror_mode": {
    "name": "ipython",
    "version": 3
   },
   "file_extension": ".py",
   "mimetype": "text/x-python",
   "name": "python",
   "nbconvert_exporter": "python",
   "pygments_lexer": "ipython3",
   "version": "3.11.5"
  }
 },
 "nbformat": 4,
 "nbformat_minor": 2
}
