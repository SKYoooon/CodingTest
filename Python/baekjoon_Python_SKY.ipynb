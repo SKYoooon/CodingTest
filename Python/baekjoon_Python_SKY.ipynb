{
 "cells": [
  {
   "cell_type": "markdown",
   "metadata": {},
   "source": [
    "# 단계별로 풀어보기"
   ]
  },
  {
   "cell_type": "markdown",
   "metadata": {},
   "source": [
    "## 입출력과 사칙연산"
   ]
  },
  {
   "cell_type": "markdown",
   "metadata": {},
   "source": [
    "#### 10869사칙연산"
   ]
  },
  {
   "cell_type": "code",
   "execution_count": 1,
   "metadata": {},
   "outputs": [],
   "source": [
    "# a, b = map(int,input().split())\n",
    "\n",
    "# print(a+b)\n",
    "# print(a-b)\n",
    "# print(a*b)\n",
    "# print(int(a/b))\n",
    "# print(a%b)"
   ]
  },
  {
   "cell_type": "markdown",
   "metadata": {},
   "source": [
    "#### 10926\t??!"
   ]
  },
  {
   "cell_type": "code",
   "execution_count": 2,
   "metadata": {},
   "outputs": [],
   "source": [
    "# id = input()\n",
    "# print(id+'??!')"
   ]
  },
  {
   "cell_type": "markdown",
   "metadata": {},
   "source": [
    "####  18108\t1998년생인 내가 태국에서는 2541년생?!"
   ]
  },
  {
   "cell_type": "code",
   "execution_count": 3,
   "metadata": {},
   "outputs": [],
   "source": [
    "# year = int(input())\n",
    "# print(year-543)"
   ]
  },
  {
   "cell_type": "markdown",
   "metadata": {},
   "source": [
    "#### 10430\t나머지"
   ]
  },
  {
   "cell_type": "code",
   "execution_count": 4,
   "metadata": {},
   "outputs": [],
   "source": [
    "# A,B,C = map(int,input().split())\n",
    "\n",
    "# print((A+B)%C)\n",
    "# print(((A%C) + (B%C))%C)\n",
    "# print((A*B)%C)\n",
    "# print(((A%C) * (B%C))%C)"
   ]
  },
  {
   "cell_type": "markdown",
   "metadata": {},
   "source": [
    "#### 2588\t곱셈"
   ]
  },
  {
   "cell_type": "code",
   "execution_count": 5,
   "metadata": {},
   "outputs": [],
   "source": [
    "# A = int(input())\n",
    "# B = input()\n",
    "\n",
    "# print(A*int(B[2]), A*int(B[1]),A*int(B[0]),A*int(B))"
   ]
  },
  {
   "cell_type": "markdown",
   "metadata": {},
   "source": [
    "#### 11382\t꼬마 정민"
   ]
  },
  {
   "cell_type": "code",
   "execution_count": 6,
   "metadata": {},
   "outputs": [],
   "source": [
    "# A, B, C = map(int,input().split())\n",
    "# print(A+B+C)"
   ]
  },
  {
   "cell_type": "markdown",
   "metadata": {},
   "source": [
    "#### 10171\t고양이"
   ]
  },
  {
   "cell_type": "code",
   "execution_count": 7,
   "metadata": {},
   "outputs": [],
   "source": [
    "# print(\"\\\\    /\\\\\")\n",
    "# print(\" )  ( ')\")\n",
    "# print(\"(  /  )\")\n",
    "# print(\" \\\\(__)|\")"
   ]
  },
  {
   "cell_type": "markdown",
   "metadata": {},
   "source": [
    "#### 10172\t개"
   ]
  },
  {
   "cell_type": "code",
   "execution_count": 8,
   "metadata": {},
   "outputs": [],
   "source": [
    "# print(\"|\\\\_/|\")\n",
    "# print(\"|q p|   /}\")\n",
    "# print(\"( 0 )\\\"\\\"\\\"\\\\\")\n",
    "# print(\"|\\\"^\\\"`    |\")\n",
    "# print(\"||_/=\\\\\\\\__|\")"
   ]
  },
  {
   "cell_type": "markdown",
   "metadata": {},
   "source": [
    "## 조건문"
   ]
  },
  {
   "cell_type": "markdown",
   "metadata": {},
   "source": [
    "#### 1330\t두 수 비교하기"
   ]
  },
  {
   "cell_type": "code",
   "execution_count": 9,
   "metadata": {},
   "outputs": [],
   "source": [
    "# A,B = map(int,input().split())\n",
    "# if A<B:\n",
    "#     print('<')\n",
    "# elif A==B:\n",
    "#     print('==')\n",
    "# else:\n",
    "#     print('>')"
   ]
  },
  {
   "cell_type": "markdown",
   "metadata": {},
   "source": [
    "#### 9498\t시험 성적"
   ]
  },
  {
   "cell_type": "code",
   "execution_count": 10,
   "metadata": {},
   "outputs": [],
   "source": [
    "# score = int(input())\n",
    "# if 90<=score<=100:\n",
    "#     print('A')\n",
    "# elif 80<=score<=89:\n",
    "#     print('B')\n",
    "# elif 70<=score<=79:\n",
    "#     print('C')\n",
    "# elif 60<=score<=69:\n",
    "#     print('D')\n",
    "# else:\n",
    "#     print('F')"
   ]
  },
  {
   "cell_type": "markdown",
   "metadata": {},
   "source": [
    "#### 2753\t윤년"
   ]
  },
  {
   "cell_type": "code",
   "execution_count": 11,
   "metadata": {},
   "outputs": [],
   "source": [
    "# year = int(input())\n",
    "# if (year %4 ==0) and ((year%100 != 0) or (year%400 ==0)):\n",
    "#     print(1)\n",
    "# else:\n",
    "#     print(0)"
   ]
  },
  {
   "cell_type": "markdown",
   "metadata": {},
   "source": [
    "#### 14681\t사분면 고르기"
   ]
  },
  {
   "cell_type": "code",
   "execution_count": 12,
   "metadata": {},
   "outputs": [],
   "source": [
    "# A = int(input())\n",
    "# B = int(input())\n",
    "# if A>0 and B>0:\n",
    "#     print(1)\n",
    "# elif A<0 and B>0:\n",
    "#     print(2)\n",
    "# elif A<0 and B<0:\n",
    "#     print(3)\n",
    "# else:\n",
    "#     print(4)"
   ]
  },
  {
   "cell_type": "markdown",
   "metadata": {},
   "source": [
    "#### 2884\t알람 시계"
   ]
  },
  {
   "cell_type": "code",
   "execution_count": 13,
   "metadata": {},
   "outputs": [],
   "source": [
    "# H, M = map(int,input().split())\n",
    "# new_H , new_M = H,M\n",
    "# if M <45:\n",
    "#     new_M = 60+ M -45\n",
    "#     new_H = H-1\n",
    "#     if H <= 0:\n",
    "#         new_H = 23\n",
    "# else :\n",
    "#     new_M = M -45\n",
    "\n",
    "# print(new_H,new_M)"
   ]
  },
  {
   "cell_type": "markdown",
   "metadata": {},
   "source": [
    "#### 2525\t오븐 시계"
   ]
  },
  {
   "cell_type": "code",
   "execution_count": 14,
   "metadata": {},
   "outputs": [],
   "source": [
    "# A, B = map(int,input().split())\n",
    "# C = int(input())\n",
    "\n",
    "# new_A , new_B = A,B\n",
    "# if  B+C>=60:\n",
    "#     new_B = (B+C)%60\n",
    "#     new_A = A + ((B+C)//60)\n",
    "#     if new_A >= 24:\n",
    "#         new_A = new_A -24\n",
    "# else:\n",
    "#     new_B = B+C\n",
    "\n",
    "# print(new_A,new_B)"
   ]
  },
  {
   "cell_type": "markdown",
   "metadata": {},
   "source": [
    "#### 2480\t주사위 세개"
   ]
  },
  {
   "cell_type": "code",
   "execution_count": 15,
   "metadata": {},
   "outputs": [],
   "source": [
    "# a,b,c = map(int,input().split())\n",
    "# reward=0\n",
    "# if a==b and b==c:\n",
    "#     reward = 10000+a*1000\n",
    "# elif a==b or a==c or b==c:\n",
    "#     reward = 1000+(a if a == b or a == c else b)*100\n",
    "# else:\n",
    "#     reward = 100*max(a,b,c)\n",
    "\n",
    "# print(reward)"
   ]
  },
  {
   "cell_type": "markdown",
   "metadata": {},
   "source": [
    "## 반복문"
   ]
  },
  {
   "cell_type": "markdown",
   "metadata": {},
   "source": [
    "#### 2739\t구구단"
   ]
  },
  {
   "cell_type": "code",
   "execution_count": 16,
   "metadata": {},
   "outputs": [],
   "source": [
    "# n = int(input())\n",
    "# for i in range(1,10):\n",
    "#     print(f'{n} * {i} = {n*i}')"
   ]
  },
  {
   "cell_type": "markdown",
   "metadata": {},
   "source": [
    "#### 10950A+B - 3"
   ]
  },
  {
   "cell_type": "code",
   "execution_count": 17,
   "metadata": {},
   "outputs": [],
   "source": [
    "# T = int(input())\n",
    "# for T in range(1,T+1):\n",
    "#     A, B = map(int,input().split())\n",
    "#     print(A+B)"
   ]
  },
  {
   "cell_type": "markdown",
   "metadata": {},
   "source": [
    "#### 8393\t합"
   ]
  },
  {
   "cell_type": "code",
   "execution_count": 18,
   "metadata": {},
   "outputs": [],
   "source": [
    "# n = int(input())\n",
    "# x=0\n",
    "# for i in range(1,n+1):\n",
    "#     x+= i\n",
    "# print(x)"
   ]
  },
  {
   "cell_type": "markdown",
   "metadata": {},
   "source": [
    "#### 25304\t영수증"
   ]
  },
  {
   "cell_type": "code",
   "execution_count": 19,
   "metadata": {},
   "outputs": [],
   "source": [
    "# total_price = int(input())\n",
    "# number_of_product = int(input())\n",
    "# check = 0\n",
    "# for i in range(1,number_of_product+1):\n",
    "#     price, num = map(int, input().split())\n",
    "#     check = check + price*num\n",
    "\n",
    "# if total_price ==check:\n",
    "#     print('Yes')\n",
    "# else:\n",
    "#     print('No')"
   ]
  },
  {
   "cell_type": "markdown",
   "metadata": {},
   "source": [
    "#### 25314\t코딩은 체육과목 입니다"
   ]
  },
  {
   "cell_type": "code",
   "execution_count": 20,
   "metadata": {},
   "outputs": [],
   "source": [
    "# length = int(input())\n",
    "# numb_of_long = length//4\n",
    "\n",
    "# for _ in range(numb_of_long):\n",
    "#     print('long', end=' ')\n",
    "\n",
    "# print('int')"
   ]
  },
  {
   "cell_type": "markdown",
   "metadata": {},
   "source": [
    "#### 11021\tA+B - 7"
   ]
  },
  {
   "cell_type": "code",
   "execution_count": 21,
   "metadata": {},
   "outputs": [],
   "source": [
    "# T = int(input())\n",
    "# for i in range(1,T+1):\n",
    "#     A, B = map(int,input().split())\n",
    "#     print(f'Case #{i}: {A+B}')"
   ]
  },
  {
   "cell_type": "markdown",
   "metadata": {},
   "source": [
    "#### \t11022\tA+B - 8"
   ]
  },
  {
   "cell_type": "code",
   "execution_count": 22,
   "metadata": {},
   "outputs": [],
   "source": [
    "# T = int(input())\n",
    "# for i in range(1,T+1):\n",
    "#     A, B = map(int,input().split())\n",
    "#     print(f'Case #{i}: {A} + {B} = {A+B}')"
   ]
  },
  {
   "cell_type": "markdown",
   "metadata": {},
   "source": [
    "#### \t2438\t별 찍기 - 1"
   ]
  },
  {
   "cell_type": "code",
   "execution_count": 23,
   "metadata": {},
   "outputs": [],
   "source": [
    "# N = int(input())\n",
    "# for i in range(1,N+1):\n",
    "#         print('*'*i)"
   ]
  },
  {
   "cell_type": "markdown",
   "metadata": {},
   "source": [
    "#### 2439별 찍기 - 2"
   ]
  },
  {
   "cell_type": "code",
   "execution_count": 24,
   "metadata": {},
   "outputs": [],
   "source": [
    "# N = int(input())\n",
    "# for i in range(1,N+1):\n",
    "#         print(' '*(N-i),end='')\n",
    "#         print('*'*i)"
   ]
  },
  {
   "cell_type": "markdown",
   "metadata": {},
   "source": [
    "#### 10952A+B - 5"
   ]
  },
  {
   "cell_type": "code",
   "execution_count": 25,
   "metadata": {},
   "outputs": [],
   "source": [
    "# A, B = map(int,input().split())\n",
    "# while A!= 0 and B!=0:\n",
    "#     print(A+B)\n",
    "#     A, B = map(int,input().split())\n"
   ]
  },
  {
   "cell_type": "markdown",
   "metadata": {},
   "source": [
    "#### \t10951\tA+B - 4"
   ]
  },
  {
   "cell_type": "code",
   "execution_count": 26,
   "metadata": {},
   "outputs": [],
   "source": [
    "# while True:\n",
    "#     try:\n",
    "#         A, B = map(int, input().split())\n",
    "#         print(A+B)\n",
    "#     except:\n",
    "#         break"
   ]
  },
  {
   "cell_type": "markdown",
   "metadata": {},
   "source": [
    "## 1차원 배열"
   ]
  },
  {
   "cell_type": "markdown",
   "metadata": {},
   "source": [
    "#### \t10807\t개수 세기"
   ]
  },
  {
   "cell_type": "code",
   "execution_count": 27,
   "metadata": {},
   "outputs": [],
   "source": [
    "# N = int(input())\n",
    "# A = list(map(int,input().split()))\n",
    "# v = int(input())\n",
    "\n",
    "# print(A.count(v))"
   ]
  },
  {
   "cell_type": "markdown",
   "metadata": {},
   "source": [
    "#### \t10871\tX보다 작은 수"
   ]
  },
  {
   "cell_type": "code",
   "execution_count": 28,
   "metadata": {},
   "outputs": [],
   "source": [
    "# N, X = map(int,input().split())\n",
    "# A = list(map(int,input().split()))\n",
    "\n",
    "# for N in range(N):\n",
    "#     if A[N] <X:\n",
    "#         print(A[N],end=' ')"
   ]
  },
  {
   "cell_type": "markdown",
   "metadata": {},
   "source": [
    "#### 10818\t최소, 최대"
   ]
  },
  {
   "cell_type": "code",
   "execution_count": 29,
   "metadata": {},
   "outputs": [],
   "source": [
    "# N = int(input())\n",
    "# a = list(map(int,input().split()))\n",
    "# print(min(a),max(a))"
   ]
  },
  {
   "cell_type": "markdown",
   "metadata": {},
   "source": [
    "#### 2562\t최댓값"
   ]
  },
  {
   "cell_type": "code",
   "execution_count": 30,
   "metadata": {},
   "outputs": [],
   "source": [
    "# a,num = 0, 0\n",
    "\n",
    "# for i in range(9):\n",
    "#     b = int(input())\n",
    "#     if b > a:\n",
    "#         a = b\n",
    "#         num = i+1\n",
    "# print(a)\n",
    "# print(num)"
   ]
  },
  {
   "cell_type": "markdown",
   "metadata": {},
   "source": [
    "#### \t10810\t공 넣기"
   ]
  },
  {
   "cell_type": "code",
   "execution_count": 31,
   "metadata": {},
   "outputs": [],
   "source": [
    "# N, M = map(int,input().split())\n",
    "# basket = [0]*N\n",
    "\n",
    "# for _ in range(M):\n",
    "#     a, b, num = map(int,input().split())\n",
    "#     basket[a-1:b] = [num]*(b-a+1)\n",
    "# result  =' '.join(map(str,basket))\n",
    "\n",
    "# print(result)"
   ]
  },
  {
   "cell_type": "markdown",
   "metadata": {},
   "source": [
    "#### 10813\t공 바꾸기"
   ]
  },
  {
   "cell_type": "code",
   "execution_count": 32,
   "metadata": {},
   "outputs": [],
   "source": [
    "# N, M = map(int,input().split())\n",
    "# basket = [0]*N\n",
    "# temp = 0\n",
    "\n",
    "# for i in range(N):\n",
    "#     basket[i] = i+1\n",
    "\n",
    "# for _ in range(M):\n",
    "#     a, b = map(int,input().split())\n",
    "#     temp = basket[a-1]\n",
    "#     basket[a-1] = basket[b-1]\n",
    "#     basket[b-1] = temp\n",
    "\n",
    "# for i in range(N):\n",
    "#     print(basket[i],end=' ')"
   ]
  },
  {
   "cell_type": "code",
   "execution_count": 33,
   "metadata": {},
   "outputs": [],
   "source": [
    "# N, M = map(int, input().split())\n",
    "# basket = list(range(1, N + 1))\n",
    "\n",
    "# for _ in range(M):\n",
    "#     a, b = map(int, input().split())\n",
    "#     basket[a-1], basket[b-1] = basket[b-1], basket[a-1]\n",
    "\n",
    "# print(*basket)"
   ]
  },
  {
   "cell_type": "markdown",
   "metadata": {},
   "source": [
    "#### 5597\t과제 안 내신 분..?"
   ]
  },
  {
   "cell_type": "code",
   "execution_count": 34,
   "metadata": {},
   "outputs": [],
   "source": [
    "# students = list(range(1,31))\n",
    "# submitted = []\n",
    "# for _ in range(1,29):\n",
    "#     submitted.append(int(input()))\n",
    "\n",
    "# not_sub = [student for student in students if student not in submitted]\n",
    "\n",
    "# print(sorted(not_sub)[0])\n",
    "# print(sorted(not_sub)[1])"
   ]
  },
  {
   "cell_type": "code",
   "execution_count": 35,
   "metadata": {},
   "outputs": [],
   "source": [
    "# students = set(range(1, 31))\n",
    "# submitted = set(int(input()) for _ in range(1, 29))\n",
    "\n",
    "# not_sub = sorted(list(students - submitted))\n",
    "\n",
    "# print(not_sub[0])\n",
    "# print(not_sub[1])\n"
   ]
  },
  {
   "cell_type": "markdown",
   "metadata": {},
   "source": [
    "#### \t3052\t나머지"
   ]
  },
  {
   "cell_type": "code",
   "execution_count": 36,
   "metadata": {},
   "outputs": [],
   "source": [
    "# num_list=[]\n",
    "# for _ in range(10):\n",
    "#     a = int(input())\n",
    "#     remain = a%42\n",
    "#     num_list.append(remain)\n",
    "\n",
    "# print(len(set(num_list)))"
   ]
  },
  {
   "cell_type": "markdown",
   "metadata": {},
   "source": [
    "#### \t10811\t바구니 뒤집기"
   ]
  },
  {
   "cell_type": "code",
   "execution_count": 37,
   "metadata": {},
   "outputs": [],
   "source": [
    "# N, M = map(int, input().split())\n",
    "# basket = list(range(1,N+1))\n",
    "\n",
    "# for _ in range(M):\n",
    "#     i, j = map(int, input().split())\n",
    "#     basket[i-1:j] = reversed(basket[i-1:j])\n",
    "\n",
    "# print(*basket)"
   ]
  },
  {
   "cell_type": "markdown",
   "metadata": {},
   "source": [
    "#### 1546\t평균 "
   ]
  },
  {
   "cell_type": "code",
   "execution_count": 38,
   "metadata": {},
   "outputs": [],
   "source": [
    "# N = int(input())\n",
    "# score = list(map(int,input().split()))\n",
    "# max_score = max(score)\n",
    "# for i in range(N):\n",
    "#     score[i] = score[i]/max_score*100\n",
    "\n",
    "# print((sum(score))/N)"
   ]
  },
  {
   "cell_type": "markdown",
   "metadata": {},
   "source": [
    "## 문자열"
   ]
  },
  {
   "cell_type": "markdown",
   "metadata": {},
   "source": [
    "27866\t문자와 문자열"
   ]
  },
  {
   "cell_type": "code",
   "execution_count": 39,
   "metadata": {},
   "outputs": [],
   "source": [
    "# word = input()\n",
    "# i = int(input())\n",
    "# print(word[i-1])"
   ]
  },
  {
   "cell_type": "markdown",
   "metadata": {},
   "source": [
    "2743\t단어 길이 재기"
   ]
  },
  {
   "cell_type": "code",
   "execution_count": 40,
   "metadata": {},
   "outputs": [],
   "source": [
    "# word = input()\n",
    "# print(len(word))"
   ]
  },
  {
   "cell_type": "markdown",
   "metadata": {},
   "source": [
    "9086\t문자열"
   ]
  },
  {
   "cell_type": "code",
   "execution_count": 41,
   "metadata": {},
   "outputs": [],
   "source": [
    "# case = int(input())\n",
    "# for _ in range(case):\n",
    "#     word = input()\n",
    "#     print(word[0]+word[-1])"
   ]
  },
  {
   "cell_type": "markdown",
   "metadata": {},
   "source": [
    "11654\t아스키 코드"
   ]
  },
  {
   "cell_type": "code",
   "execution_count": 42,
   "metadata": {},
   "outputs": [],
   "source": [
    "# alph = input()\n",
    "# print(ord(alph))"
   ]
  },
  {
   "cell_type": "markdown",
   "metadata": {},
   "source": [
    "11720숫자의 합"
   ]
  },
  {
   "cell_type": "code",
   "execution_count": 43,
   "metadata": {},
   "outputs": [],
   "source": [
    "# N = input()\n",
    "# N_2 = input()\n",
    "# print(sum(map(int,N_2)))"
   ]
  },
  {
   "cell_type": "code",
   "execution_count": 44,
   "metadata": {},
   "outputs": [],
   "source": [
    "# S = input()\n",
    "\n",
    "# for i in range(97,123):\n",
    "#     if chr(i) in S:\n",
    "#         print(S.index(chr(i)),end=' ')\n",
    "#     else :\n",
    "#         print(-1,end=' ')"
   ]
  },
  {
   "cell_type": "markdown",
   "metadata": {},
   "source": [
    "2675문자열 반복"
   ]
  },
  {
   "cell_type": "code",
   "execution_count": 7,
   "metadata": {},
   "outputs": [
    {
     "name": "stdout",
     "output_type": "stream",
     "text": [
      "ggaadd...vvvaaa///dddfffaaa,,,"
     ]
    }
   ],
   "source": [
    "# s = int(input())\n",
    "# for _ in range(s):\n",
    "#     r, p = input().split()\n",
    "#     for char in p:\n",
    "#         print(char*int(r),end='')\n",
    "#     print()"
   ]
  },
  {
   "cell_type": "markdown",
   "metadata": {},
   "source": [
    "1152\t단어의 개수"
   ]
  },
  {
   "cell_type": "code",
   "execution_count": 10,
   "metadata": {},
   "outputs": [
    {
     "name": "stdout",
     "output_type": "stream",
     "text": [
      "4\n"
     ]
    }
   ],
   "source": [
    "# sentence = input().split()\n",
    "# print(len(sentence))"
   ]
  },
  {
   "cell_type": "markdown",
   "metadata": {},
   "source": [
    "2908\t상수"
   ]
  },
  {
   "cell_type": "code",
   "execution_count": 13,
   "metadata": {},
   "outputs": [
    {
     "name": "stdout",
     "output_type": "stream",
     "text": [
      "537\n"
     ]
    }
   ],
   "source": [
    "# num1, num2 = input().split()\n",
    "# num1_sangsu = int(num1[2]+num1[1]+num1[0])\n",
    "# num2_sangsu = int(num2[2]+num2[1]+num2[0])\n",
    "# print(max(num1_sangsu,num2_sangsu))"
   ]
  },
  {
   "cell_type": "code",
   "execution_count": 16,
   "metadata": {},
   "outputs": [
    {
     "name": "stdout",
     "output_type": "stream",
     "text": [
      "321\n"
     ]
    }
   ],
   "source": [
    "# num1, num2 = input().split()\n",
    "# num1, num2 = int(num1[::-1]), int(num2[::-1])\n",
    "# print(max(num1,num2))"
   ]
  },
  {
   "cell_type": "markdown",
   "metadata": {},
   "source": [
    "5622\t다이얼"
   ]
  },
  {
   "cell_type": "code",
   "execution_count": 13,
   "metadata": {},
   "outputs": [
    {
     "name": "stdout",
     "output_type": "stream",
     "text": [
      "13\n"
     ]
    }
   ],
   "source": [
    "# dial = ['ABC', 'DEF', 'GHI', 'JKL', 'MNO', 'PQRS', 'TUV', 'WXYZ']\n",
    "# word = input()\n",
    "# time = 0\n",
    "# for char in word:\n",
    "#     for i, letters in enumerate(dial):\n",
    "#         if char in letters:\n",
    "#             time += i + 3\n",
    "#             break\n",
    "# print(time)"
   ]
  },
  {
   "cell_type": "code",
   "execution_count": 15,
   "metadata": {},
   "outputs": [
    {
     "name": "stdout",
     "output_type": "stream",
     "text": [
      "22\n"
     ]
    }
   ],
   "source": [
    "# word = input()\n",
    "# time = 0\n",
    "\n",
    "# for letters in word:\n",
    "#     if letters in \"ABC\":\n",
    "#         time += 3\n",
    "#     elif letters in \"DEF\":\n",
    "#         time += 4\n",
    "#     elif letters in \"GHI\":\n",
    "#         time += 5\n",
    "#     elif letters in \"JKL\":\n",
    "#         time += 6\n",
    "#     elif letters in \"MNO\":\n",
    "#         time += 7\n",
    "#     elif letters in \"PQRS\":\n",
    "#         time += 8\n",
    "#     elif letters in \"TUV\":\n",
    "#         time += 9\n",
    "#     elif letters in \"WXYZ\":\n",
    "#         time += 10\n",
    "#     elif letters in \" \":\n",
    "#         time += 2\n",
    "#     else:\n",
    "#         time += 11\n",
    "\n",
    "# print(time)"
   ]
  },
  {
   "cell_type": "code",
   "execution_count": 14,
   "metadata": {},
   "outputs": [
    {
     "name": "stdout",
     "output_type": "stream",
     "text": [
      "0\n"
     ]
    }
   ],
   "source": [
    "# dial = ['ABC', 'DEF', 'GHI', 'JKL', 'MNO', 'PQRS', 'TUV', 'WXYZ']\n",
    "# word = input()\n",
    "# time = 0\n",
    "# for j in range(len(a)):\n",
    "#     for i in dial:\n",
    "#         if a[j] in i:\n",
    "#             time += dial.index(i)+3\n",
    "# print(time)"
   ]
  },
  {
   "cell_type": "markdown",
   "metadata": {},
   "source": [
    "11718\t그대로 출력하기"
   ]
  },
  {
   "cell_type": "code",
   "execution_count": 1,
   "metadata": {},
   "outputs": [],
   "source": [
    "# while True:\n",
    "#     try:\n",
    "#         word = input()\n",
    "#         print(word)\n",
    "#     except EOFError:\n",
    "#         break\n",
    "\n",
    "# # End of the file error"
   ]
  },
  {
   "cell_type": "markdown",
   "metadata": {},
   "source": [
    "## 심화 1"
   ]
  },
  {
   "cell_type": "markdown",
   "metadata": {},
   "source": [
    "25083\t새싹"
   ]
  },
  {
   "cell_type": "code",
   "execution_count": 4,
   "metadata": {},
   "outputs": [
    {
     "name": "stdout",
     "output_type": "stream",
     "text": [
      "         ,r'\"7\n",
      "r`-_   ,'  ,/\n",
      " \\. \". L_r'\n",
      "   `~\\/\n",
      "      |\n",
      "      |\n"
     ]
    }
   ],
   "source": [
    "# print('         ,r\\'\"7')\n",
    "# print('r`-_   ,\\'  ,/')\n",
    "# print(' \\. \". L_r\\'')\n",
    "# print('   `~\\/')\n",
    "# print('      |')\n",
    "# print('      |')"
   ]
  },
  {
   "cell_type": "code",
   "execution_count": null,
   "metadata": {},
   "outputs": [],
   "source": [
    "# print('''         ,r'\"7''')\n",
    "# print('''r`-_   ,'  ,/''')\n",
    "# print(\"\"\" \\. \". L_r'\"\"\")\n",
    "# print('   `~\\/')\n",
    "# print('      |')\n",
    "# print('      |')\n",
    "# # ''' 3개 사용"
   ]
  },
  {
   "cell_type": "markdown",
   "metadata": {},
   "source": [
    "3003\t킹, 퀸, 룩, 비숍, 나이트, 폰"
   ]
  },
  {
   "cell_type": "code",
   "execution_count": 38,
   "metadata": {},
   "outputs": [],
   "source": [
    "# piece = [1,1,2,2,2,8]\n",
    "# found = list(map(int,input().split()))\n",
    "\n",
    "# for i in range(6):\n",
    "#     print(piece[i]-found[i],end=' ')\n"
   ]
  },
  {
   "cell_type": "markdown",
   "metadata": {},
   "source": [
    "\t2444\t별 찍기 - 7"
   ]
  },
  {
   "cell_type": "code",
   "execution_count": 39,
   "metadata": {},
   "outputs": [],
   "source": [
    "# N = int(input())\n",
    "\n",
    "# for i in range(1, 2*N, 2):\n",
    "#     print(\" \" * ((2*N-1-i)//2) + \"*\" * i)\n",
    "\n",
    "# for i in range(2*N-3, 0, -2):\n",
    "#     print(\" \" * ((2*N-1-i)//2) + \"*\" * i)\n"
   ]
  },
  {
   "cell_type": "markdown",
   "metadata": {},
   "source": [
    "\t10988\t팰린드롬인지 확인하기"
   ]
  },
  {
   "cell_type": "code",
   "execution_count": 2,
   "metadata": {},
   "outputs": [
    {
     "name": "stdout",
     "output_type": "stream",
     "text": [
      "1\n"
     ]
    }
   ],
   "source": [
    "# word = input()\n",
    "# reverse = word[::-1]\n",
    "\n",
    "# if word ==reverse:\n",
    "#     print(1)\n",
    "# else :\n",
    "#     print(0)"
   ]
  },
  {
   "cell_type": "markdown",
   "metadata": {},
   "source": [
    "1157\t단어 공부"
   ]
  },
  {
   "cell_type": "code",
   "execution_count": 13,
   "metadata": {},
   "outputs": [
    {
     "name": "stdout",
     "output_type": "stream",
     "text": [
      "C\n"
     ]
    }
   ],
   "source": [
    "# word = input().upper()\n",
    "# word_list = list(set(word))\n",
    "\n",
    "# countlist = []\n",
    "\n",
    "# for char in word_list:\n",
    "#     counter = word.count(char)\n",
    "#     countlist.append(counter)\n",
    "\n",
    "# if countlist.count(max(countlist)) > 1:\n",
    "#     print(\"?\")\n",
    "\n",
    "# else :\n",
    "#     print(word_list[countlist.index(max(countlist))])"
   ]
  },
  {
   "cell_type": "code",
   "execution_count": null,
   "metadata": {},
   "outputs": [],
   "source": [
    "2941\t크로아티아 알파벳"
   ]
  },
  {
   "cell_type": "code",
   "execution_count": null,
   "metadata": {},
   "outputs": [],
   "source": [
    "# c_a = ['c=', 'c-', 'dz=', 'd-', 'lj', 'nj', 's=', 'z=']\n",
    "# word = input()\n",
    "\n",
    "# for i in c_a :\n",
    "#     word = word.replace(i, 'c')\n",
    "# print(len(word))"
   ]
  },
  {
   "cell_type": "markdown",
   "metadata": {},
   "source": [
    "\t1316\t그룹 단어 체커"
   ]
  },
  {
   "cell_type": "code",
   "execution_count": 15,
   "metadata": {},
   "outputs": [
    {
     "name": "stdout",
     "output_type": "stream",
     "text": [
      "1\n"
     ]
    }
   ],
   "source": [
    "# num = int(input())\n",
    "# count = 0\n",
    "# alphabet_list =[]\n",
    "\n",
    "# for _ in range(num):\n",
    "#     word = input()\n",
    "#     for i in range(len(word)):\n",
    "#         if i > 0 and word[i] != word[i-1] and word[i] in alphabet_list:\n",
    "#             break\n",
    "#         elif i == len(word)-1:\n",
    "#             count +=1\n",
    "#         else :\n",
    "#             alphabet_list.append(word[i])\n",
    "\n",
    "#     alphabet_list = []\n",
    "\n",
    "\n",
    "# print(count)"
   ]
  },
  {
   "cell_type": "code",
   "execution_count": null,
   "metadata": {},
   "outputs": [],
   "source": [
    "# # 하나씩 빼는방법\n",
    "# n = int(input())\n",
    "# ans = n\n",
    "\n",
    "# for _ in range():\n",
    "#     word= input()\n",
    "\n",
    "#     for i in range(len(word)-1):\n",
    "#         if word[i] ==word[i+1]:\n",
    "#             pass\n",
    "#         elif word[i] in word[i+1:]:\n",
    "#             ans -= 1\n",
    "#             break\n",
    "# print(ans)"
   ]
  },
  {
   "cell_type": "code",
   "execution_count": null,
   "metadata": {},
   "outputs": [],
   "source": [
    "# # find, for에 바로 input, sorted&find 활용\n",
    "# result = 0\n",
    "# for i in range(int(input())):\n",
    "#     word = input()\n",
    "#     if list(word) == sorted(word, key=word.find):  \n",
    "#         result += 1\n",
    "# print(result)"
   ]
  },
  {
   "cell_type": "markdown",
   "metadata": {},
   "source": [
    "\t25206\t너의 평점은"
   ]
  },
  {
   "cell_type": "code",
   "execution_count": 17,
   "metadata": {},
   "outputs": [
    {
     "ename": "ValueError",
     "evalue": "not enough values to unpack (expected 3, got 0)",
     "output_type": "error",
     "traceback": [
      "\u001b[1;31m---------------------------------------------------------------------------\u001b[0m",
      "\u001b[1;31mValueError\u001b[0m                                Traceback (most recent call last)",
      "Cell \u001b[1;32mIn[17], line 9\u001b[0m\n\u001b[0;32m      6\u001b[0m credits \u001b[38;5;241m=\u001b[39m \u001b[38;5;241m0\u001b[39m\n\u001b[0;32m      8\u001b[0m \u001b[38;5;28;01mfor\u001b[39;00m _ \u001b[38;5;129;01min\u001b[39;00m \u001b[38;5;28mrange\u001b[39m(\u001b[38;5;241m20\u001b[39m):\n\u001b[1;32m----> 9\u001b[0m     subject,credit, grade \u001b[38;5;241m=\u001b[39m \u001b[38;5;28minput\u001b[39m()\u001b[38;5;241m.\u001b[39msplit()\n\u001b[0;32m     10\u001b[0m     \u001b[38;5;28;01mif\u001b[39;00m grade \u001b[38;5;129;01min\u001b[39;00m [P,F]:\n\u001b[0;32m     11\u001b[0m         \u001b[38;5;28;01mpass\u001b[39;00m\n",
      "\u001b[1;31mValueError\u001b[0m: not enough values to unpack (expected 3, got 0)"
     ]
    }
   ],
   "source": [
    "# rating = ['A+', 'A0', 'B+', 'B0', 'C+', 'C0', 'D+', 'D0', 'F']\n",
    "# grades = [4.5, 4.0, 3.5, 3.0, 2.5, 2.0, 1.5, 1.0, 0]\n",
    "\n",
    "\n",
    "# total_grade = 0\n",
    "# total_credits = 0\n",
    "\n",
    "# for _ in range(20):\n",
    "#     subject,credit, grade = input().split()\n",
    "#     credit = float(credit)\n",
    "#     if grade != 'P' :\n",
    "#         total_grade += credit*grades[rating.index(grade)]\n",
    "#         total_credits += credit\n",
    "\n",
    "# print(total_grade/total_credits)"
   ]
  },
  {
   "cell_type": "code",
   "execution_count": null,
   "metadata": {},
   "outputs": [],
   "source": [
    "# #딕셔너리\n",
    "# score = {'A+': 4.5, 'A0': 4.0, 'B+': 3.5, 'B0': 3.0,\n",
    "#          'C+': 2.5, 'C0': 2.0, 'D+': 1.5, 'D0': 1.0, 'F': 0.0}\n",
    "\n",
    "# total_credits = 0\n",
    "# total_grades = 0\n",
    "# for _ in range(20):\n",
    "#     subject, credit, grade = input().split()\n",
    "#     credit = float(credit)\n",
    "#     if grade != 'P':\n",
    "#         total_credits += credit\n",
    "#         total_grades += credit * score[grade]\n",
    "\n",
    "# print(total_grades / total_credits)"
   ]
  }
 ],
 "metadata": {
  "kernelspec": {
   "display_name": "base",
   "language": "python",
   "name": "python3"
  },
  "language_info": {
   "codemirror_mode": {
    "name": "ipython",
    "version": 3
   },
   "file_extension": ".py",
   "mimetype": "text/x-python",
   "name": "python",
   "nbconvert_exporter": "python",
   "pygments_lexer": "ipython3",
   "version": "3.11.5"
  }
 },
 "nbformat": 4,
 "nbformat_minor": 2
}
