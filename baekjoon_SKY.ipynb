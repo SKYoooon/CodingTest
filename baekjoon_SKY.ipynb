{
 "cells": [
  {
   "cell_type": "code",
   "execution_count": 2,
   "metadata": {},
   "outputs": [],
   "source": [
    "# # 10869사칙연산\n",
    "# a, b = map(int,input().split())\n",
    "\n",
    "# print(a+b)\n",
    "# print(a-b)\n",
    "# print(a*b)\n",
    "# print(int(a/b))\n",
    "# print(a%b)"
   ]
  },
  {
   "cell_type": "code",
   "execution_count": 3,
   "metadata": {},
   "outputs": [
    {
     "name": "stdout",
     "output_type": "stream",
     "text": [
      "egag??!\n"
     ]
    }
   ],
   "source": [
    "# #10926\t??!\n",
    "# id = input()\n",
    "# print(id+'??!')"
   ]
  },
  {
   "cell_type": "code",
   "execution_count": 9,
   "metadata": {},
   "outputs": [
    {
     "name": "stdout",
     "output_type": "stream",
     "text": [
      "2088\n"
     ]
    }
   ],
   "source": [
    "# # 18108\t1998년생인 내가 태국에서는 2541년생?!\n",
    "# year = int(input())\n",
    "# print(year-543)"
   ]
  },
  {
   "cell_type": "code",
   "execution_count": 13,
   "metadata": {},
   "outputs": [
    {
     "name": "stdout",
     "output_type": "stream",
     "text": [
      "1\n",
      "1\n",
      "0\n",
      "0\n"
     ]
    }
   ],
   "source": [
    "# # 10430\t나머지\n",
    "\n",
    "# A,B,C = map(int,input().split())\n",
    "\n",
    "# print((A+B)%C)\n",
    "# print(((A%C) + (B%C))%C)\n",
    "# print((A*B)%C)\n",
    "# print(((A%C) * (B%C))%C)"
   ]
  },
  {
   "cell_type": "code",
   "execution_count": 25,
   "metadata": {},
   "outputs": [
    {
     "name": "stdout",
     "output_type": "stream",
     "text": [
      "3776 2360 1416 168976\n"
     ]
    }
   ],
   "source": [
    "# 2588\t곱셈\n",
    "# A = int(input())\n",
    "# B = input()\n",
    "\n",
    "# print(A*int(B[2]), A*int(B[1]),A*int(B[0]),A*int(B))"
   ]
  },
  {
   "cell_type": "code",
   "execution_count": 14,
   "metadata": {},
   "outputs": [
    {
     "ename": "TypeError",
     "evalue": "'int' object is not subscriptable",
     "output_type": "error",
     "traceback": [
      "\u001b[1;31m---------------------------------------------------------------------------\u001b[0m",
      "\u001b[1;31mTypeError\u001b[0m                                 Traceback (most recent call last)",
      "Cell \u001b[1;32mIn[14], line 2\u001b[0m\n\u001b[0;32m      1\u001b[0m a \u001b[38;5;241m=\u001b[39m \u001b[38;5;241m123\u001b[39m\n\u001b[1;32m----> 2\u001b[0m a[\u001b[38;5;241m1\u001b[39m]\n",
      "\u001b[1;31mTypeError\u001b[0m: 'int' object is not subscriptable"
     ]
    }
   ],
   "source": [
    "# 11382\t꼬마 정민\n",
    "A, B, C = map(int,input().split())\n",
    "print(A+B+C)"
   ]
  },
  {
   "cell_type": "code",
   "execution_count": 36,
   "metadata": {},
   "outputs": [
    {
     "name": "stdout",
     "output_type": "stream",
     "text": [
      "\\    /\\\n",
      " )  ( ')\n",
      "(  /  )\n",
      " \\(__)|\n"
     ]
    }
   ],
   "source": [
    "# \t# 10171\t고양이\n",
    "# print(\"\\\\    /\\\\\")\n",
    "# print(\" )  ( ')\")\n",
    "# print(\"(  /  )\")\n",
    "# print(\" \\\\(__)|\")"
   ]
  },
  {
   "cell_type": "code",
   "execution_count": 44,
   "metadata": {},
   "outputs": [
    {
     "name": "stdout",
     "output_type": "stream",
     "text": [
      "|\\_/|\n",
      "|q p|   /}\n",
      "( 0 )\"\"\"\\\n",
      "|\"^\"`    |\n",
      "||_/=\\\\__|\n"
     ]
    }
   ],
   "source": [
    "# # 10172\t개\n",
    "# print(\"|\\\\_/|\")\n",
    "# print(\"|q p|   /}\")\n",
    "# print(\"( 0 )\\\"\\\"\\\"\\\\\")\n",
    "# print(\"|\\\"^\\\"`    |\")\n",
    "# print(\"||_/=\\\\\\\\__|\")"
   ]
  },
  {
   "cell_type": "code",
   "execution_count": 45,
   "metadata": {},
   "outputs": [
    {
     "name": "stdout",
     "output_type": "stream",
     "text": [
      "<\n"
     ]
    }
   ],
   "source": [
    "# \t# 1330\t두 수 비교하기\n",
    "# A,B = map(int,input().split())\n",
    "# if A<B:\n",
    "#     print('<')\n",
    "# elif A==B:\n",
    "#     print('==')\n",
    "# else:\n",
    "#     print('>')"
   ]
  },
  {
   "cell_type": "code",
   "execution_count": 46,
   "metadata": {},
   "outputs": [
    {
     "name": "stdout",
     "output_type": "stream",
     "text": [
      "F\n"
     ]
    }
   ],
   "source": [
    "# # 9498\t시험 성적\n",
    "# score = int(input())\n",
    "# if 90<=score<=100:\n",
    "#     print('A')\n",
    "# elif 80<=score<=89:\n",
    "#     print('B')\n",
    "# elif 70<=score<=79:\n",
    "#     print('C')\n",
    "# elif 60<=score<=69:\n",
    "#     print('D')\n",
    "# else:\n",
    "#     print('F')"
   ]
  },
  {
   "cell_type": "code",
   "execution_count": 50,
   "metadata": {},
   "outputs": [
    {
     "name": "stdout",
     "output_type": "stream",
     "text": [
      "1\n"
     ]
    }
   ],
   "source": [
    "# \t# 2753\t윤년\n",
    "# year = int(input())\n",
    "# if (year %4 ==0) and ((year%100 != 0) or (year%400 ==0)):\n",
    "#     print(1)\n",
    "# else:\n",
    "#     print(0)"
   ]
  },
  {
   "cell_type": "code",
   "execution_count": 51,
   "metadata": {},
   "outputs": [
    {
     "name": "stdout",
     "output_type": "stream",
     "text": [
      "1\n"
     ]
    }
   ],
   "source": [
    "# # 14681\t사분면 고르기\n",
    "# A = int(input())\n",
    "# B = int(input())\n",
    "# if A>0 and B>0:\n",
    "#     print(1)\n",
    "# elif A<0 and B>0:\n",
    "#     print(2)\n",
    "# elif A<0 and B<0:\n",
    "#     print(3)\n",
    "# else:\n",
    "#     print(4)"
   ]
  },
  {
   "cell_type": "code",
   "execution_count": 64,
   "metadata": {},
   "outputs": [
    {
     "name": "stdout",
     "output_type": "stream",
     "text": [
      "22 55\n"
     ]
    }
   ],
   "source": [
    "# # 2884\t알람 시계\n",
    "# H, M = map(int,input().split())\n",
    "# new_H , new_M = H,M\n",
    "# if M <45:\n",
    "#     new_M = 60+ M -45\n",
    "#     new_H = H-1\n",
    "#     if H <= 0:\n",
    "#         new_H = 23\n",
    "# else :\n",
    "#     new_M = M -45\n",
    "\n",
    "# print(new_H,new_M)"
   ]
  },
  {
   "cell_type": "code",
   "execution_count": 74,
   "metadata": {},
   "outputs": [
    {
     "name": "stdout",
     "output_type": "stream",
     "text": [
      "0 13\n"
     ]
    }
   ],
   "source": [
    "# \t# 2525\t오븐 시계\n",
    "# A, B = map(int,input().split())\n",
    "# C = int(input())\n",
    "\n",
    "# new_A , new_B = A,B\n",
    "# if  B+C>=60:\n",
    "#     new_B = (B+C)%60\n",
    "#     new_A = A + ((B+C)//60)\n",
    "#     if new_A >= 24:\n",
    "#         new_A = new_A -24\n",
    "# else:\n",
    "#     new_B = B+C\n",
    "\n",
    "# print(new_A,new_B)"
   ]
  },
  {
   "cell_type": "code",
   "execution_count": 83,
   "metadata": {},
   "outputs": [
    {
     "name": "stdout",
     "output_type": "stream",
     "text": [
      "1300\n"
     ]
    }
   ],
   "source": [
    "# 2480\t주사위 세개\n",
    "a,b,c = map(int,input().split())\n",
    "reward=0\n",
    "if a==b and b==c:\n",
    "    reward = 10000+a*1000\n",
    "elif a==b or a==c or b==c:\n",
    "    reward = 1000+(a if a == b or a == c else b)*100\n",
    "else:\n",
    "    reward = 100*max(a,b,c)\n",
    "\n",
    "print(reward)"
   ]
  },
  {
   "cell_type": "code",
   "execution_count": null,
   "metadata": {},
   "outputs": [],
   "source": []
  }
 ],
 "metadata": {
  "kernelspec": {
   "display_name": "base",
   "language": "python",
   "name": "python3"
  },
  "language_info": {
   "codemirror_mode": {
    "name": "ipython",
    "version": 3
   },
   "file_extension": ".py",
   "mimetype": "text/x-python",
   "name": "python",
   "nbconvert_exporter": "python",
   "pygments_lexer": "ipython3",
   "version": "3.11.5"
  }
 },
 "nbformat": 4,
 "nbformat_minor": 2
}
