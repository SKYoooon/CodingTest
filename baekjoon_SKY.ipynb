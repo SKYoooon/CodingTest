{
 "cells": [
  {
   "cell_type": "code",
   "execution_count": 1,
   "metadata": {},
   "outputs": [],
   "source": [
    "# # 10869사칙연산\n",
    "# a, b = map(int,input().split())\n",
    "\n",
    "# print(a+b)\n",
    "# print(a-b)\n",
    "# print(a*b)\n",
    "# print(int(a/b))\n",
    "# print(a%b)"
   ]
  },
  {
   "cell_type": "code",
   "execution_count": 2,
   "metadata": {},
   "outputs": [],
   "source": [
    "# #10926\t??!\n",
    "# id = input()\n",
    "# print(id+'??!')"
   ]
  },
  {
   "cell_type": "code",
   "execution_count": 3,
   "metadata": {},
   "outputs": [],
   "source": [
    "# # 18108\t1998년생인 내가 태국에서는 2541년생?!\n",
    "# year = int(input())\n",
    "# print(year-543)"
   ]
  },
  {
   "cell_type": "code",
   "execution_count": 4,
   "metadata": {},
   "outputs": [],
   "source": [
    "# # 10430\t나머지\n",
    "\n",
    "# A,B,C = map(int,input().split())\n",
    "\n",
    "# print((A+B)%C)\n",
    "# print(((A%C) + (B%C))%C)\n",
    "# print((A*B)%C)\n",
    "# print(((A%C) * (B%C))%C)"
   ]
  },
  {
   "cell_type": "code",
   "execution_count": 5,
   "metadata": {},
   "outputs": [],
   "source": [
    "# 2588\t곱셈\n",
    "# A = int(input())\n",
    "# B = input()\n",
    "\n",
    "# print(A*int(B[2]), A*int(B[1]),A*int(B[0]),A*int(B))"
   ]
  },
  {
   "cell_type": "code",
   "execution_count": 6,
   "metadata": {},
   "outputs": [],
   "source": [
    "# # 11382\t꼬마 정민\n",
    "# A, B, C = map(int,input().split())\n",
    "# print(A+B+C)"
   ]
  },
  {
   "cell_type": "code",
   "execution_count": 7,
   "metadata": {},
   "outputs": [],
   "source": [
    "# \t# 10171\t고양이\n",
    "# print(\"\\\\    /\\\\\")\n",
    "# print(\" )  ( ')\")\n",
    "# print(\"(  /  )\")\n",
    "# print(\" \\\\(__)|\")"
   ]
  },
  {
   "cell_type": "code",
   "execution_count": 8,
   "metadata": {},
   "outputs": [],
   "source": [
    "# # 10172\t개\n",
    "# print(\"|\\\\_/|\")\n",
    "# print(\"|q p|   /}\")\n",
    "# print(\"( 0 )\\\"\\\"\\\"\\\\\")\n",
    "# print(\"|\\\"^\\\"`    |\")\n",
    "# print(\"||_/=\\\\\\\\__|\")"
   ]
  },
  {
   "cell_type": "code",
   "execution_count": 9,
   "metadata": {},
   "outputs": [],
   "source": [
    "# \t# 1330\t두 수 비교하기\n",
    "# A,B = map(int,input().split())\n",
    "# if A<B:\n",
    "#     print('<')\n",
    "# elif A==B:\n",
    "#     print('==')\n",
    "# else:\n",
    "#     print('>')"
   ]
  },
  {
   "cell_type": "code",
   "execution_count": 10,
   "metadata": {},
   "outputs": [],
   "source": [
    "# # 9498\t시험 성적\n",
    "# score = int(input())\n",
    "# if 90<=score<=100:\n",
    "#     print('A')\n",
    "# elif 80<=score<=89:\n",
    "#     print('B')\n",
    "# elif 70<=score<=79:\n",
    "#     print('C')\n",
    "# elif 60<=score<=69:\n",
    "#     print('D')\n",
    "# else:\n",
    "#     print('F')"
   ]
  },
  {
   "cell_type": "code",
   "execution_count": 11,
   "metadata": {},
   "outputs": [],
   "source": [
    "# \t# 2753\t윤년\n",
    "# year = int(input())\n",
    "# if (year %4 ==0) and ((year%100 != 0) or (year%400 ==0)):\n",
    "#     print(1)\n",
    "# else:\n",
    "#     print(0)"
   ]
  },
  {
   "cell_type": "code",
   "execution_count": 12,
   "metadata": {},
   "outputs": [],
   "source": [
    "# # 14681\t사분면 고르기\n",
    "# A = int(input())\n",
    "# B = int(input())\n",
    "# if A>0 and B>0:\n",
    "#     print(1)\n",
    "# elif A<0 and B>0:\n",
    "#     print(2)\n",
    "# elif A<0 and B<0:\n",
    "#     print(3)\n",
    "# else:\n",
    "#     print(4)"
   ]
  },
  {
   "cell_type": "code",
   "execution_count": 13,
   "metadata": {},
   "outputs": [],
   "source": [
    "# # 2884\t알람 시계\n",
    "# H, M = map(int,input().split())\n",
    "# new_H , new_M = H,M\n",
    "# if M <45:\n",
    "#     new_M = 60+ M -45\n",
    "#     new_H = H-1\n",
    "#     if H <= 0:\n",
    "#         new_H = 23\n",
    "# else :\n",
    "#     new_M = M -45\n",
    "\n",
    "# print(new_H,new_M)"
   ]
  },
  {
   "cell_type": "code",
   "execution_count": 14,
   "metadata": {},
   "outputs": [],
   "source": [
    "# \t# 2525\t오븐 시계\n",
    "# A, B = map(int,input().split())\n",
    "# C = int(input())\n",
    "\n",
    "# new_A , new_B = A,B\n",
    "# if  B+C>=60:\n",
    "#     new_B = (B+C)%60\n",
    "#     new_A = A + ((B+C)//60)\n",
    "#     if new_A >= 24:\n",
    "#         new_A = new_A -24\n",
    "# else:\n",
    "#     new_B = B+C\n",
    "\n",
    "# print(new_A,new_B)"
   ]
  },
  {
   "cell_type": "code",
   "execution_count": 15,
   "metadata": {},
   "outputs": [],
   "source": [
    "# # 2480\t주사위 세개\n",
    "# a,b,c = map(int,input().split())\n",
    "# reward=0\n",
    "# if a==b and b==c:\n",
    "#     reward = 10000+a*1000\n",
    "# elif a==b or a==c or b==c:\n",
    "#     reward = 1000+(a if a == b or a == c else b)*100\n",
    "# else:\n",
    "#     reward = 100*max(a,b,c)\n",
    "\n",
    "# print(reward)"
   ]
  },
  {
   "cell_type": "code",
   "execution_count": null,
   "metadata": {},
   "outputs": [],
   "source": []
  }
 ],
 "metadata": {
  "kernelspec": {
   "display_name": "base",
   "language": "python",
   "name": "python3"
  },
  "language_info": {
   "codemirror_mode": {
    "name": "ipython",
    "version": 3
   },
   "file_extension": ".py",
   "mimetype": "text/x-python",
   "name": "python",
   "nbconvert_exporter": "python",
   "pygments_lexer": "ipython3",
   "version": "3.11.5"
  }
 },
 "nbformat": 4,
 "nbformat_minor": 2
}
